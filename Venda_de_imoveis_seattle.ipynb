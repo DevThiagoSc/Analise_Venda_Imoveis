{
  "nbformat": 4,
  "nbformat_minor": 0,
  "metadata": {
    "colab": {
      "provenance": [],
      "authorship_tag": "ABX9TyNGaWGeo1Uu/tvLXqzAZlub",
      "include_colab_link": true
    },
    "kernelspec": {
      "name": "python3",
      "display_name": "Python 3"
    },
    "language_info": {
      "name": "python"
    }
  },
  "cells": [
    {
      "cell_type": "markdown",
      "metadata": {
        "id": "view-in-github",
        "colab_type": "text"
      },
      "source": [
        "<a href=\"https://colab.research.google.com/github/DevThiagoSc/Analise_Venda_Imoveis/blob/main/Venda_de_imoveis_seattle.ipynb\" target=\"_parent\"><img src=\"https://colab.research.google.com/assets/colab-badge.svg\" alt=\"Open In Colab\"/></a>"
      ]
    },
    {
      "cell_type": "markdown",
      "source": [
        "***\n",
        "# Análise de Vendas de Imóveis na Cidade de Seattle\n",
        "***"
      ],
      "metadata": {
        "id": "HZYLTCPlLSDp"
      }
    },
    {
      "cell_type": "markdown",
      "source": [
        "### A ideia deste projeto é praticar e demonstrar minhas habilidades sobre análise exploratória de dados e geração de insights. Para isso, desenvolvi um projeto para uma empresa ficticia de compra e vendas de imóveis com o intuito de otimizar seus negócios. Através da base de dados de vendas anteriores da empresa, verifiquei quais as características mais presentes nos imóveis vendidos e estipulei quais reformas e manutenções poderiam ser feitas nos imóveis para valorizá-los. "
      ],
      "metadata": {
        "id": "qKTnU9dJLbNT"
      }
    },
    {
      "cell_type": "markdown",
      "source": [
        "##Importando bibliotecas e lendo dados"
      ],
      "metadata": {
        "id": "Xt8RlyMTLsad"
      }
    },
    {
      "cell_type": "code",
      "execution_count": 1,
      "metadata": {
        "id": "TZAhxqNgLLua"
      },
      "outputs": [],
      "source": [
        "import pandas as pd\n",
        "import seaborn as sns\n",
        "import numpy as np\n",
        "import matplotlib.pyplot as plt\n",
        "import matplotlib.ticker as ticker"
      ]
    },
    {
      "cell_type": "code",
      "source": [
        "df = pd.read_csv('kc_houses_data_seattle.csv', sep=',')\n",
        "df.head()"
      ],
      "metadata": {
        "colab": {
          "base_uri": "https://localhost:8080/",
          "height": 352
        },
        "id": "6CEGNDv_LwF5",
        "outputId": "5e81fb8d-d86a-42fe-db27-4840bf121744"
      },
      "execution_count": 2,
      "outputs": [
        {
          "output_type": "execute_result",
          "data": {
            "text/plain": [
              "           id             date     price  bedrooms  bathrooms  sqft_living  \\\n",
              "0  9212900260  20140527T000000  468000.0         2       1.00         1160   \n",
              "1  5101402488  20140624T000000  438000.0         3       1.75         1520   \n",
              "2   461000390  20140624T000000  687500.0         4       1.75         2330   \n",
              "3  7589200193  20141110T000000  535000.0         3       1.00         1090   \n",
              "4  5200100125  20141027T000000  555000.0         3       2.00         1980   \n",
              "\n",
              "   sqft_lot  floors  waterfront  view  ...  sqft_basement  yr_built  \\\n",
              "0      6000     1.0           0     0  ...            300      1942   \n",
              "1      6380     1.0           0     0  ...            730      1948   \n",
              "2      5000     1.5           0     0  ...            820      1929   \n",
              "3      3000     1.5           0     0  ...              0      1929   \n",
              "4      3478     1.5           0     0  ...            540      1929   \n",
              "\n",
              "   yr_renovated  zipcode      lat     long  sqft_living15  sqft_lot15  \\\n",
              "0             0    98115  47.6900 -122.292           1330        6000   \n",
              "1             0    98115  47.6950 -122.304           1520        6235   \n",
              "2             0    98117  47.6823 -122.368           1460        5000   \n",
              "3             0    98117  47.6889 -122.375           1570        5080   \n",
              "4             0    98117  47.6775 -122.372           1610        3478   \n",
              "\n",
              "       neighborhood     city  \n",
              "0          Wedgwood  Seattle  \n",
              "1          Wedgwood  Seattle  \n",
              "2  Whittier Heights  Seattle  \n",
              "3  Whittier Heights  Seattle  \n",
              "4  Whittier Heights  Seattle  \n",
              "\n",
              "[5 rows x 23 columns]"
            ],
            "text/html": [
              "\n",
              "  <div id=\"df-2ca014a9-bcfa-4f11-a9ab-af6ded4a1486\">\n",
              "    <div class=\"colab-df-container\">\n",
              "      <div>\n",
              "<style scoped>\n",
              "    .dataframe tbody tr th:only-of-type {\n",
              "        vertical-align: middle;\n",
              "    }\n",
              "\n",
              "    .dataframe tbody tr th {\n",
              "        vertical-align: top;\n",
              "    }\n",
              "\n",
              "    .dataframe thead th {\n",
              "        text-align: right;\n",
              "    }\n",
              "</style>\n",
              "<table border=\"1\" class=\"dataframe\">\n",
              "  <thead>\n",
              "    <tr style=\"text-align: right;\">\n",
              "      <th></th>\n",
              "      <th>id</th>\n",
              "      <th>date</th>\n",
              "      <th>price</th>\n",
              "      <th>bedrooms</th>\n",
              "      <th>bathrooms</th>\n",
              "      <th>sqft_living</th>\n",
              "      <th>sqft_lot</th>\n",
              "      <th>floors</th>\n",
              "      <th>waterfront</th>\n",
              "      <th>view</th>\n",
              "      <th>...</th>\n",
              "      <th>sqft_basement</th>\n",
              "      <th>yr_built</th>\n",
              "      <th>yr_renovated</th>\n",
              "      <th>zipcode</th>\n",
              "      <th>lat</th>\n",
              "      <th>long</th>\n",
              "      <th>sqft_living15</th>\n",
              "      <th>sqft_lot15</th>\n",
              "      <th>neighborhood</th>\n",
              "      <th>city</th>\n",
              "    </tr>\n",
              "  </thead>\n",
              "  <tbody>\n",
              "    <tr>\n",
              "      <th>0</th>\n",
              "      <td>9212900260</td>\n",
              "      <td>20140527T000000</td>\n",
              "      <td>468000.0</td>\n",
              "      <td>2</td>\n",
              "      <td>1.00</td>\n",
              "      <td>1160</td>\n",
              "      <td>6000</td>\n",
              "      <td>1.0</td>\n",
              "      <td>0</td>\n",
              "      <td>0</td>\n",
              "      <td>...</td>\n",
              "      <td>300</td>\n",
              "      <td>1942</td>\n",
              "      <td>0</td>\n",
              "      <td>98115</td>\n",
              "      <td>47.6900</td>\n",
              "      <td>-122.292</td>\n",
              "      <td>1330</td>\n",
              "      <td>6000</td>\n",
              "      <td>Wedgwood</td>\n",
              "      <td>Seattle</td>\n",
              "    </tr>\n",
              "    <tr>\n",
              "      <th>1</th>\n",
              "      <td>5101402488</td>\n",
              "      <td>20140624T000000</td>\n",
              "      <td>438000.0</td>\n",
              "      <td>3</td>\n",
              "      <td>1.75</td>\n",
              "      <td>1520</td>\n",
              "      <td>6380</td>\n",
              "      <td>1.0</td>\n",
              "      <td>0</td>\n",
              "      <td>0</td>\n",
              "      <td>...</td>\n",
              "      <td>730</td>\n",
              "      <td>1948</td>\n",
              "      <td>0</td>\n",
              "      <td>98115</td>\n",
              "      <td>47.6950</td>\n",
              "      <td>-122.304</td>\n",
              "      <td>1520</td>\n",
              "      <td>6235</td>\n",
              "      <td>Wedgwood</td>\n",
              "      <td>Seattle</td>\n",
              "    </tr>\n",
              "    <tr>\n",
              "      <th>2</th>\n",
              "      <td>461000390</td>\n",
              "      <td>20140624T000000</td>\n",
              "      <td>687500.0</td>\n",
              "      <td>4</td>\n",
              "      <td>1.75</td>\n",
              "      <td>2330</td>\n",
              "      <td>5000</td>\n",
              "      <td>1.5</td>\n",
              "      <td>0</td>\n",
              "      <td>0</td>\n",
              "      <td>...</td>\n",
              "      <td>820</td>\n",
              "      <td>1929</td>\n",
              "      <td>0</td>\n",
              "      <td>98117</td>\n",
              "      <td>47.6823</td>\n",
              "      <td>-122.368</td>\n",
              "      <td>1460</td>\n",
              "      <td>5000</td>\n",
              "      <td>Whittier Heights</td>\n",
              "      <td>Seattle</td>\n",
              "    </tr>\n",
              "    <tr>\n",
              "      <th>3</th>\n",
              "      <td>7589200193</td>\n",
              "      <td>20141110T000000</td>\n",
              "      <td>535000.0</td>\n",
              "      <td>3</td>\n",
              "      <td>1.00</td>\n",
              "      <td>1090</td>\n",
              "      <td>3000</td>\n",
              "      <td>1.5</td>\n",
              "      <td>0</td>\n",
              "      <td>0</td>\n",
              "      <td>...</td>\n",
              "      <td>0</td>\n",
              "      <td>1929</td>\n",
              "      <td>0</td>\n",
              "      <td>98117</td>\n",
              "      <td>47.6889</td>\n",
              "      <td>-122.375</td>\n",
              "      <td>1570</td>\n",
              "      <td>5080</td>\n",
              "      <td>Whittier Heights</td>\n",
              "      <td>Seattle</td>\n",
              "    </tr>\n",
              "    <tr>\n",
              "      <th>4</th>\n",
              "      <td>5200100125</td>\n",
              "      <td>20141027T000000</td>\n",
              "      <td>555000.0</td>\n",
              "      <td>3</td>\n",
              "      <td>2.00</td>\n",
              "      <td>1980</td>\n",
              "      <td>3478</td>\n",
              "      <td>1.5</td>\n",
              "      <td>0</td>\n",
              "      <td>0</td>\n",
              "      <td>...</td>\n",
              "      <td>540</td>\n",
              "      <td>1929</td>\n",
              "      <td>0</td>\n",
              "      <td>98117</td>\n",
              "      <td>47.6775</td>\n",
              "      <td>-122.372</td>\n",
              "      <td>1610</td>\n",
              "      <td>3478</td>\n",
              "      <td>Whittier Heights</td>\n",
              "      <td>Seattle</td>\n",
              "    </tr>\n",
              "  </tbody>\n",
              "</table>\n",
              "<p>5 rows × 23 columns</p>\n",
              "</div>\n",
              "      <button class=\"colab-df-convert\" onclick=\"convertToInteractive('df-2ca014a9-bcfa-4f11-a9ab-af6ded4a1486')\"\n",
              "              title=\"Convert this dataframe to an interactive table.\"\n",
              "              style=\"display:none;\">\n",
              "        \n",
              "  <svg xmlns=\"http://www.w3.org/2000/svg\" height=\"24px\"viewBox=\"0 0 24 24\"\n",
              "       width=\"24px\">\n",
              "    <path d=\"M0 0h24v24H0V0z\" fill=\"none\"/>\n",
              "    <path d=\"M18.56 5.44l.94 2.06.94-2.06 2.06-.94-2.06-.94-.94-2.06-.94 2.06-2.06.94zm-11 1L8.5 8.5l.94-2.06 2.06-.94-2.06-.94L8.5 2.5l-.94 2.06-2.06.94zm10 10l.94 2.06.94-2.06 2.06-.94-2.06-.94-.94-2.06-.94 2.06-2.06.94z\"/><path d=\"M17.41 7.96l-1.37-1.37c-.4-.4-.92-.59-1.43-.59-.52 0-1.04.2-1.43.59L10.3 9.45l-7.72 7.72c-.78.78-.78 2.05 0 2.83L4 21.41c.39.39.9.59 1.41.59.51 0 1.02-.2 1.41-.59l7.78-7.78 2.81-2.81c.8-.78.8-2.07 0-2.86zM5.41 20L4 18.59l7.72-7.72 1.47 1.35L5.41 20z\"/>\n",
              "  </svg>\n",
              "      </button>\n",
              "      \n",
              "  <style>\n",
              "    .colab-df-container {\n",
              "      display:flex;\n",
              "      flex-wrap:wrap;\n",
              "      gap: 12px;\n",
              "    }\n",
              "\n",
              "    .colab-df-convert {\n",
              "      background-color: #E8F0FE;\n",
              "      border: none;\n",
              "      border-radius: 50%;\n",
              "      cursor: pointer;\n",
              "      display: none;\n",
              "      fill: #1967D2;\n",
              "      height: 32px;\n",
              "      padding: 0 0 0 0;\n",
              "      width: 32px;\n",
              "    }\n",
              "\n",
              "    .colab-df-convert:hover {\n",
              "      background-color: #E2EBFA;\n",
              "      box-shadow: 0px 1px 2px rgba(60, 64, 67, 0.3), 0px 1px 3px 1px rgba(60, 64, 67, 0.15);\n",
              "      fill: #174EA6;\n",
              "    }\n",
              "\n",
              "    [theme=dark] .colab-df-convert {\n",
              "      background-color: #3B4455;\n",
              "      fill: #D2E3FC;\n",
              "    }\n",
              "\n",
              "    [theme=dark] .colab-df-convert:hover {\n",
              "      background-color: #434B5C;\n",
              "      box-shadow: 0px 1px 3px 1px rgba(0, 0, 0, 0.15);\n",
              "      filter: drop-shadow(0px 1px 2px rgba(0, 0, 0, 0.3));\n",
              "      fill: #FFFFFF;\n",
              "    }\n",
              "  </style>\n",
              "\n",
              "      <script>\n",
              "        const buttonEl =\n",
              "          document.querySelector('#df-2ca014a9-bcfa-4f11-a9ab-af6ded4a1486 button.colab-df-convert');\n",
              "        buttonEl.style.display =\n",
              "          google.colab.kernel.accessAllowed ? 'block' : 'none';\n",
              "\n",
              "        async function convertToInteractive(key) {\n",
              "          const element = document.querySelector('#df-2ca014a9-bcfa-4f11-a9ab-af6ded4a1486');\n",
              "          const dataTable =\n",
              "            await google.colab.kernel.invokeFunction('convertToInteractive',\n",
              "                                                     [key], {});\n",
              "          if (!dataTable) return;\n",
              "\n",
              "          const docLinkHtml = 'Like what you see? Visit the ' +\n",
              "            '<a target=\"_blank\" href=https://colab.research.google.com/notebooks/data_table.ipynb>data table notebook</a>'\n",
              "            + ' to learn more about interactive tables.';\n",
              "          element.innerHTML = '';\n",
              "          dataTable['output_type'] = 'display_data';\n",
              "          await google.colab.output.renderOutput(dataTable, element);\n",
              "          const docLink = document.createElement('div');\n",
              "          docLink.innerHTML = docLinkHtml;\n",
              "          element.appendChild(docLink);\n",
              "        }\n",
              "      </script>\n",
              "    </div>\n",
              "  </div>\n",
              "  "
            ]
          },
          "metadata": {},
          "execution_count": 2
        }
      ]
    },
    {
      "cell_type": "markdown",
      "source": [
        "#### Base de dados utilizada: https://www.kaggle.com/datasets/harlfoxem/housesalesprediction\n",
        "Dicionário de dados:\n",
        "<p>id - Identificador de cada venda</p>\n",
        "<p>date - Data da venda\n",
        "<p>price - Preço que imóvel foi vendido\n",
        "<p>bedrooms - Número de quartos\n",
        "<p>bathrooms - Número de banheiros (banheiros com casas decimais, são banheiros que não possuem chuveiros)\n",
        "<p>sqft_living - Área util do imóvel\n",
        "<p>sqft_lot - Área total do terreno\n",
        "<p>floors - Andares\n",
        "<p>waterfront - Indicador se imóvel tem vista para o mar\n",
        "<p>view - Índice de 0 a 4 para a qualidade da vista\n",
        "<p>condition - Índice de 1 a 5 indicando condição do imóvel\n",
        "<p>grade - Índice de 1 a 13 indicando a qualidade dos materiais da construção e design da obra\n",
        "<p>sqft_above - Área interna do imóvel a partir do primeiro andar\n",
        "<p>sqft_basement - Área do porão\n",
        "<p>yr_built - Ano em que imóvel foi construído\n",
        "<p>yr_renovated - Ano em que imóvel foi reformado\n",
        "<p>zipcode - CEP\n",
        "<p>lat - Latitude\n",
        "<p>long - Longitude\n",
        "<p>sqft_living15 - Área útil do imóvel dos 15 vizinhos mais próximos\n",
        "<p>sqft_lot15 - Área total do imóvel dos 15 vizinhos mais próximos"
      ],
      "metadata": {
        "id": "bHeXwQyeTPp3"
      }
    },
    {
      "cell_type": "code",
      "source": [
        "df.shape"
      ],
      "metadata": {
        "colab": {
          "base_uri": "https://localhost:8080/"
        },
        "id": "LXBOJkZCTB48",
        "outputId": "1980125b-1457-48fc-f96c-dd1bdec973c7"
      },
      "execution_count": 3,
      "outputs": [
        {
          "output_type": "execute_result",
          "data": {
            "text/plain": [
              "(429, 23)"
            ]
          },
          "metadata": {},
          "execution_count": 3
        }
      ]
    },
    {
      "cell_type": "code",
      "source": [
        "df.columns"
      ],
      "metadata": {
        "colab": {
          "base_uri": "https://localhost:8080/"
        },
        "id": "zWlRyWNFTJrv",
        "outputId": "f818c6df-b219-439f-95fd-0f8059e8b163"
      },
      "execution_count": 4,
      "outputs": [
        {
          "output_type": "execute_result",
          "data": {
            "text/plain": [
              "Index(['id', 'date', 'price', 'bedrooms', 'bathrooms', 'sqft_living',\n",
              "       'sqft_lot', 'floors', 'waterfront', 'view', 'condition', 'grade',\n",
              "       'sqft_above', 'sqft_basement', 'yr_built', 'yr_renovated', 'zipcode',\n",
              "       'lat', 'long', 'sqft_living15', 'sqft_lot15', 'neighborhood', 'city'],\n",
              "      dtype='object')"
            ]
          },
          "metadata": {},
          "execution_count": 4
        }
      ]
    },
    {
      "cell_type": "code",
      "source": [
        "used_columns = ['date', 'price', 'bedrooms', 'bathrooms', 'sqft_living',\n",
        "       'sqft_lot', 'floors', 'waterfront', 'view', 'condition', 'grade',\n",
        "       'sqft_above', 'sqft_basement', 'yr_built', 'yr_renovated', \n",
        "       'sqft_living15', 'sqft_lot15', 'neighborhood', 'city']"
      ],
      "metadata": {
        "id": "YVjg0o-RTbTS"
      },
      "execution_count": 5,
      "outputs": []
    },
    {
      "cell_type": "code",
      "source": [
        "df = df.filter(items=used_columns)\n",
        "df.head()"
      ],
      "metadata": {
        "colab": {
          "base_uri": "https://localhost:8080/",
          "height": 322
        },
        "id": "5dNiOTr6TtlK",
        "outputId": "90d0c03b-9c80-4606-b4f4-9ea33826d2d5"
      },
      "execution_count": 6,
      "outputs": [
        {
          "output_type": "execute_result",
          "data": {
            "text/plain": [
              "              date     price  bedrooms  bathrooms  sqft_living  sqft_lot  \\\n",
              "0  20140527T000000  468000.0         2       1.00         1160      6000   \n",
              "1  20140624T000000  438000.0         3       1.75         1520      6380   \n",
              "2  20140624T000000  687500.0         4       1.75         2330      5000   \n",
              "3  20141110T000000  535000.0         3       1.00         1090      3000   \n",
              "4  20141027T000000  555000.0         3       2.00         1980      3478   \n",
              "\n",
              "   floors  waterfront  view  condition  grade  sqft_above  sqft_basement  \\\n",
              "0     1.0           0     0          4      7         860            300   \n",
              "1     1.0           0     0          3      7         790            730   \n",
              "2     1.5           0     0          4      7        1510            820   \n",
              "3     1.5           0     0          4      8        1090              0   \n",
              "4     1.5           0     0          4      7        1440            540   \n",
              "\n",
              "   yr_built  yr_renovated  sqft_living15  sqft_lot15      neighborhood  \\\n",
              "0      1942             0           1330        6000          Wedgwood   \n",
              "1      1948             0           1520        6235          Wedgwood   \n",
              "2      1929             0           1460        5000  Whittier Heights   \n",
              "3      1929             0           1570        5080  Whittier Heights   \n",
              "4      1929             0           1610        3478  Whittier Heights   \n",
              "\n",
              "      city  \n",
              "0  Seattle  \n",
              "1  Seattle  \n",
              "2  Seattle  \n",
              "3  Seattle  \n",
              "4  Seattle  "
            ],
            "text/html": [
              "\n",
              "  <div id=\"df-9d9239da-af05-447d-a3a4-64422015ef2f\">\n",
              "    <div class=\"colab-df-container\">\n",
              "      <div>\n",
              "<style scoped>\n",
              "    .dataframe tbody tr th:only-of-type {\n",
              "        vertical-align: middle;\n",
              "    }\n",
              "\n",
              "    .dataframe tbody tr th {\n",
              "        vertical-align: top;\n",
              "    }\n",
              "\n",
              "    .dataframe thead th {\n",
              "        text-align: right;\n",
              "    }\n",
              "</style>\n",
              "<table border=\"1\" class=\"dataframe\">\n",
              "  <thead>\n",
              "    <tr style=\"text-align: right;\">\n",
              "      <th></th>\n",
              "      <th>date</th>\n",
              "      <th>price</th>\n",
              "      <th>bedrooms</th>\n",
              "      <th>bathrooms</th>\n",
              "      <th>sqft_living</th>\n",
              "      <th>sqft_lot</th>\n",
              "      <th>floors</th>\n",
              "      <th>waterfront</th>\n",
              "      <th>view</th>\n",
              "      <th>condition</th>\n",
              "      <th>grade</th>\n",
              "      <th>sqft_above</th>\n",
              "      <th>sqft_basement</th>\n",
              "      <th>yr_built</th>\n",
              "      <th>yr_renovated</th>\n",
              "      <th>sqft_living15</th>\n",
              "      <th>sqft_lot15</th>\n",
              "      <th>neighborhood</th>\n",
              "      <th>city</th>\n",
              "    </tr>\n",
              "  </thead>\n",
              "  <tbody>\n",
              "    <tr>\n",
              "      <th>0</th>\n",
              "      <td>20140527T000000</td>\n",
              "      <td>468000.0</td>\n",
              "      <td>2</td>\n",
              "      <td>1.00</td>\n",
              "      <td>1160</td>\n",
              "      <td>6000</td>\n",
              "      <td>1.0</td>\n",
              "      <td>0</td>\n",
              "      <td>0</td>\n",
              "      <td>4</td>\n",
              "      <td>7</td>\n",
              "      <td>860</td>\n",
              "      <td>300</td>\n",
              "      <td>1942</td>\n",
              "      <td>0</td>\n",
              "      <td>1330</td>\n",
              "      <td>6000</td>\n",
              "      <td>Wedgwood</td>\n",
              "      <td>Seattle</td>\n",
              "    </tr>\n",
              "    <tr>\n",
              "      <th>1</th>\n",
              "      <td>20140624T000000</td>\n",
              "      <td>438000.0</td>\n",
              "      <td>3</td>\n",
              "      <td>1.75</td>\n",
              "      <td>1520</td>\n",
              "      <td>6380</td>\n",
              "      <td>1.0</td>\n",
              "      <td>0</td>\n",
              "      <td>0</td>\n",
              "      <td>3</td>\n",
              "      <td>7</td>\n",
              "      <td>790</td>\n",
              "      <td>730</td>\n",
              "      <td>1948</td>\n",
              "      <td>0</td>\n",
              "      <td>1520</td>\n",
              "      <td>6235</td>\n",
              "      <td>Wedgwood</td>\n",
              "      <td>Seattle</td>\n",
              "    </tr>\n",
              "    <tr>\n",
              "      <th>2</th>\n",
              "      <td>20140624T000000</td>\n",
              "      <td>687500.0</td>\n",
              "      <td>4</td>\n",
              "      <td>1.75</td>\n",
              "      <td>2330</td>\n",
              "      <td>5000</td>\n",
              "      <td>1.5</td>\n",
              "      <td>0</td>\n",
              "      <td>0</td>\n",
              "      <td>4</td>\n",
              "      <td>7</td>\n",
              "      <td>1510</td>\n",
              "      <td>820</td>\n",
              "      <td>1929</td>\n",
              "      <td>0</td>\n",
              "      <td>1460</td>\n",
              "      <td>5000</td>\n",
              "      <td>Whittier Heights</td>\n",
              "      <td>Seattle</td>\n",
              "    </tr>\n",
              "    <tr>\n",
              "      <th>3</th>\n",
              "      <td>20141110T000000</td>\n",
              "      <td>535000.0</td>\n",
              "      <td>3</td>\n",
              "      <td>1.00</td>\n",
              "      <td>1090</td>\n",
              "      <td>3000</td>\n",
              "      <td>1.5</td>\n",
              "      <td>0</td>\n",
              "      <td>0</td>\n",
              "      <td>4</td>\n",
              "      <td>8</td>\n",
              "      <td>1090</td>\n",
              "      <td>0</td>\n",
              "      <td>1929</td>\n",
              "      <td>0</td>\n",
              "      <td>1570</td>\n",
              "      <td>5080</td>\n",
              "      <td>Whittier Heights</td>\n",
              "      <td>Seattle</td>\n",
              "    </tr>\n",
              "    <tr>\n",
              "      <th>4</th>\n",
              "      <td>20141027T000000</td>\n",
              "      <td>555000.0</td>\n",
              "      <td>3</td>\n",
              "      <td>2.00</td>\n",
              "      <td>1980</td>\n",
              "      <td>3478</td>\n",
              "      <td>1.5</td>\n",
              "      <td>0</td>\n",
              "      <td>0</td>\n",
              "      <td>4</td>\n",
              "      <td>7</td>\n",
              "      <td>1440</td>\n",
              "      <td>540</td>\n",
              "      <td>1929</td>\n",
              "      <td>0</td>\n",
              "      <td>1610</td>\n",
              "      <td>3478</td>\n",
              "      <td>Whittier Heights</td>\n",
              "      <td>Seattle</td>\n",
              "    </tr>\n",
              "  </tbody>\n",
              "</table>\n",
              "</div>\n",
              "      <button class=\"colab-df-convert\" onclick=\"convertToInteractive('df-9d9239da-af05-447d-a3a4-64422015ef2f')\"\n",
              "              title=\"Convert this dataframe to an interactive table.\"\n",
              "              style=\"display:none;\">\n",
              "        \n",
              "  <svg xmlns=\"http://www.w3.org/2000/svg\" height=\"24px\"viewBox=\"0 0 24 24\"\n",
              "       width=\"24px\">\n",
              "    <path d=\"M0 0h24v24H0V0z\" fill=\"none\"/>\n",
              "    <path d=\"M18.56 5.44l.94 2.06.94-2.06 2.06-.94-2.06-.94-.94-2.06-.94 2.06-2.06.94zm-11 1L8.5 8.5l.94-2.06 2.06-.94-2.06-.94L8.5 2.5l-.94 2.06-2.06.94zm10 10l.94 2.06.94-2.06 2.06-.94-2.06-.94-.94-2.06-.94 2.06-2.06.94z\"/><path d=\"M17.41 7.96l-1.37-1.37c-.4-.4-.92-.59-1.43-.59-.52 0-1.04.2-1.43.59L10.3 9.45l-7.72 7.72c-.78.78-.78 2.05 0 2.83L4 21.41c.39.39.9.59 1.41.59.51 0 1.02-.2 1.41-.59l7.78-7.78 2.81-2.81c.8-.78.8-2.07 0-2.86zM5.41 20L4 18.59l7.72-7.72 1.47 1.35L5.41 20z\"/>\n",
              "  </svg>\n",
              "      </button>\n",
              "      \n",
              "  <style>\n",
              "    .colab-df-container {\n",
              "      display:flex;\n",
              "      flex-wrap:wrap;\n",
              "      gap: 12px;\n",
              "    }\n",
              "\n",
              "    .colab-df-convert {\n",
              "      background-color: #E8F0FE;\n",
              "      border: none;\n",
              "      border-radius: 50%;\n",
              "      cursor: pointer;\n",
              "      display: none;\n",
              "      fill: #1967D2;\n",
              "      height: 32px;\n",
              "      padding: 0 0 0 0;\n",
              "      width: 32px;\n",
              "    }\n",
              "\n",
              "    .colab-df-convert:hover {\n",
              "      background-color: #E2EBFA;\n",
              "      box-shadow: 0px 1px 2px rgba(60, 64, 67, 0.3), 0px 1px 3px 1px rgba(60, 64, 67, 0.15);\n",
              "      fill: #174EA6;\n",
              "    }\n",
              "\n",
              "    [theme=dark] .colab-df-convert {\n",
              "      background-color: #3B4455;\n",
              "      fill: #D2E3FC;\n",
              "    }\n",
              "\n",
              "    [theme=dark] .colab-df-convert:hover {\n",
              "      background-color: #434B5C;\n",
              "      box-shadow: 0px 1px 3px 1px rgba(0, 0, 0, 0.15);\n",
              "      filter: drop-shadow(0px 1px 2px rgba(0, 0, 0, 0.3));\n",
              "      fill: #FFFFFF;\n",
              "    }\n",
              "  </style>\n",
              "\n",
              "      <script>\n",
              "        const buttonEl =\n",
              "          document.querySelector('#df-9d9239da-af05-447d-a3a4-64422015ef2f button.colab-df-convert');\n",
              "        buttonEl.style.display =\n",
              "          google.colab.kernel.accessAllowed ? 'block' : 'none';\n",
              "\n",
              "        async function convertToInteractive(key) {\n",
              "          const element = document.querySelector('#df-9d9239da-af05-447d-a3a4-64422015ef2f');\n",
              "          const dataTable =\n",
              "            await google.colab.kernel.invokeFunction('convertToInteractive',\n",
              "                                                     [key], {});\n",
              "          if (!dataTable) return;\n",
              "\n",
              "          const docLinkHtml = 'Like what you see? Visit the ' +\n",
              "            '<a target=\"_blank\" href=https://colab.research.google.com/notebooks/data_table.ipynb>data table notebook</a>'\n",
              "            + ' to learn more about interactive tables.';\n",
              "          element.innerHTML = '';\n",
              "          dataTable['output_type'] = 'display_data';\n",
              "          await google.colab.output.renderOutput(dataTable, element);\n",
              "          const docLink = document.createElement('div');\n",
              "          docLink.innerHTML = docLinkHtml;\n",
              "          element.appendChild(docLink);\n",
              "        }\n",
              "      </script>\n",
              "    </div>\n",
              "  </div>\n",
              "  "
            ]
          },
          "metadata": {},
          "execution_count": 6
        }
      ]
    },
    {
      "cell_type": "code",
      "source": [
        "df.shape"
      ],
      "metadata": {
        "colab": {
          "base_uri": "https://localhost:8080/"
        },
        "id": "zlr4GPITUAh8",
        "outputId": "1f44a240-2c9a-4ffd-9393-fcd519864496"
      },
      "execution_count": 7,
      "outputs": [
        {
          "output_type": "execute_result",
          "data": {
            "text/plain": [
              "(429, 19)"
            ]
          },
          "metadata": {},
          "execution_count": 7
        }
      ]
    },
    {
      "cell_type": "markdown",
      "source": [
        "##Tratamento de Dados"
      ],
      "metadata": {
        "id": "ewRSIyeCUJB1"
      }
    },
    {
      "cell_type": "code",
      "source": [
        "df.isnull().sum()"
      ],
      "metadata": {
        "colab": {
          "base_uri": "https://localhost:8080/"
        },
        "id": "wgGb1kNuUC1V",
        "outputId": "73e33e35-23d1-4a86-d1c2-e12748053c2b"
      },
      "execution_count": 8,
      "outputs": [
        {
          "output_type": "execute_result",
          "data": {
            "text/plain": [
              "date             0\n",
              "price            0\n",
              "bedrooms         0\n",
              "bathrooms        0\n",
              "sqft_living      0\n",
              "sqft_lot         0\n",
              "floors           0\n",
              "waterfront       0\n",
              "view             0\n",
              "condition        0\n",
              "grade            0\n",
              "sqft_above       0\n",
              "sqft_basement    0\n",
              "yr_built         0\n",
              "yr_renovated     0\n",
              "sqft_living15    0\n",
              "sqft_lot15       0\n",
              "neighborhood     0\n",
              "city             0\n",
              "dtype: int64"
            ]
          },
          "metadata": {},
          "execution_count": 8
        }
      ]
    },
    {
      "cell_type": "code",
      "source": [
        "df.isna().sum()"
      ],
      "metadata": {
        "colab": {
          "base_uri": "https://localhost:8080/"
        },
        "id": "FSd9zVAkUNuS",
        "outputId": "d7505162-59fa-416f-a98b-632792e932d7"
      },
      "execution_count": 9,
      "outputs": [
        {
          "output_type": "execute_result",
          "data": {
            "text/plain": [
              "date             0\n",
              "price            0\n",
              "bedrooms         0\n",
              "bathrooms        0\n",
              "sqft_living      0\n",
              "sqft_lot         0\n",
              "floors           0\n",
              "waterfront       0\n",
              "view             0\n",
              "condition        0\n",
              "grade            0\n",
              "sqft_above       0\n",
              "sqft_basement    0\n",
              "yr_built         0\n",
              "yr_renovated     0\n",
              "sqft_living15    0\n",
              "sqft_lot15       0\n",
              "neighborhood     0\n",
              "city             0\n",
              "dtype: int64"
            ]
          },
          "metadata": {},
          "execution_count": 9
        }
      ]
    },
    {
      "cell_type": "code",
      "source": [
        "df.date = df.date.str.slice(0, 8)\n",
        "df.head()"
      ],
      "metadata": {
        "colab": {
          "base_uri": "https://localhost:8080/",
          "height": 322
        },
        "id": "5PFICmDNUPMU",
        "outputId": "f739a6f1-512d-4a56-c8c9-8de51af573dd"
      },
      "execution_count": 10,
      "outputs": [
        {
          "output_type": "execute_result",
          "data": {
            "text/plain": [
              "       date     price  bedrooms  bathrooms  sqft_living  sqft_lot  floors  \\\n",
              "0  20140527  468000.0         2       1.00         1160      6000     1.0   \n",
              "1  20140624  438000.0         3       1.75         1520      6380     1.0   \n",
              "2  20140624  687500.0         4       1.75         2330      5000     1.5   \n",
              "3  20141110  535000.0         3       1.00         1090      3000     1.5   \n",
              "4  20141027  555000.0         3       2.00         1980      3478     1.5   \n",
              "\n",
              "   waterfront  view  condition  grade  sqft_above  sqft_basement  yr_built  \\\n",
              "0           0     0          4      7         860            300      1942   \n",
              "1           0     0          3      7         790            730      1948   \n",
              "2           0     0          4      7        1510            820      1929   \n",
              "3           0     0          4      8        1090              0      1929   \n",
              "4           0     0          4      7        1440            540      1929   \n",
              "\n",
              "   yr_renovated  sqft_living15  sqft_lot15      neighborhood     city  \n",
              "0             0           1330        6000          Wedgwood  Seattle  \n",
              "1             0           1520        6235          Wedgwood  Seattle  \n",
              "2             0           1460        5000  Whittier Heights  Seattle  \n",
              "3             0           1570        5080  Whittier Heights  Seattle  \n",
              "4             0           1610        3478  Whittier Heights  Seattle  "
            ],
            "text/html": [
              "\n",
              "  <div id=\"df-9ce4e74f-c5ec-47a0-9a10-7a4a12e0af99\">\n",
              "    <div class=\"colab-df-container\">\n",
              "      <div>\n",
              "<style scoped>\n",
              "    .dataframe tbody tr th:only-of-type {\n",
              "        vertical-align: middle;\n",
              "    }\n",
              "\n",
              "    .dataframe tbody tr th {\n",
              "        vertical-align: top;\n",
              "    }\n",
              "\n",
              "    .dataframe thead th {\n",
              "        text-align: right;\n",
              "    }\n",
              "</style>\n",
              "<table border=\"1\" class=\"dataframe\">\n",
              "  <thead>\n",
              "    <tr style=\"text-align: right;\">\n",
              "      <th></th>\n",
              "      <th>date</th>\n",
              "      <th>price</th>\n",
              "      <th>bedrooms</th>\n",
              "      <th>bathrooms</th>\n",
              "      <th>sqft_living</th>\n",
              "      <th>sqft_lot</th>\n",
              "      <th>floors</th>\n",
              "      <th>waterfront</th>\n",
              "      <th>view</th>\n",
              "      <th>condition</th>\n",
              "      <th>grade</th>\n",
              "      <th>sqft_above</th>\n",
              "      <th>sqft_basement</th>\n",
              "      <th>yr_built</th>\n",
              "      <th>yr_renovated</th>\n",
              "      <th>sqft_living15</th>\n",
              "      <th>sqft_lot15</th>\n",
              "      <th>neighborhood</th>\n",
              "      <th>city</th>\n",
              "    </tr>\n",
              "  </thead>\n",
              "  <tbody>\n",
              "    <tr>\n",
              "      <th>0</th>\n",
              "      <td>20140527</td>\n",
              "      <td>468000.0</td>\n",
              "      <td>2</td>\n",
              "      <td>1.00</td>\n",
              "      <td>1160</td>\n",
              "      <td>6000</td>\n",
              "      <td>1.0</td>\n",
              "      <td>0</td>\n",
              "      <td>0</td>\n",
              "      <td>4</td>\n",
              "      <td>7</td>\n",
              "      <td>860</td>\n",
              "      <td>300</td>\n",
              "      <td>1942</td>\n",
              "      <td>0</td>\n",
              "      <td>1330</td>\n",
              "      <td>6000</td>\n",
              "      <td>Wedgwood</td>\n",
              "      <td>Seattle</td>\n",
              "    </tr>\n",
              "    <tr>\n",
              "      <th>1</th>\n",
              "      <td>20140624</td>\n",
              "      <td>438000.0</td>\n",
              "      <td>3</td>\n",
              "      <td>1.75</td>\n",
              "      <td>1520</td>\n",
              "      <td>6380</td>\n",
              "      <td>1.0</td>\n",
              "      <td>0</td>\n",
              "      <td>0</td>\n",
              "      <td>3</td>\n",
              "      <td>7</td>\n",
              "      <td>790</td>\n",
              "      <td>730</td>\n",
              "      <td>1948</td>\n",
              "      <td>0</td>\n",
              "      <td>1520</td>\n",
              "      <td>6235</td>\n",
              "      <td>Wedgwood</td>\n",
              "      <td>Seattle</td>\n",
              "    </tr>\n",
              "    <tr>\n",
              "      <th>2</th>\n",
              "      <td>20140624</td>\n",
              "      <td>687500.0</td>\n",
              "      <td>4</td>\n",
              "      <td>1.75</td>\n",
              "      <td>2330</td>\n",
              "      <td>5000</td>\n",
              "      <td>1.5</td>\n",
              "      <td>0</td>\n",
              "      <td>0</td>\n",
              "      <td>4</td>\n",
              "      <td>7</td>\n",
              "      <td>1510</td>\n",
              "      <td>820</td>\n",
              "      <td>1929</td>\n",
              "      <td>0</td>\n",
              "      <td>1460</td>\n",
              "      <td>5000</td>\n",
              "      <td>Whittier Heights</td>\n",
              "      <td>Seattle</td>\n",
              "    </tr>\n",
              "    <tr>\n",
              "      <th>3</th>\n",
              "      <td>20141110</td>\n",
              "      <td>535000.0</td>\n",
              "      <td>3</td>\n",
              "      <td>1.00</td>\n",
              "      <td>1090</td>\n",
              "      <td>3000</td>\n",
              "      <td>1.5</td>\n",
              "      <td>0</td>\n",
              "      <td>0</td>\n",
              "      <td>4</td>\n",
              "      <td>8</td>\n",
              "      <td>1090</td>\n",
              "      <td>0</td>\n",
              "      <td>1929</td>\n",
              "      <td>0</td>\n",
              "      <td>1570</td>\n",
              "      <td>5080</td>\n",
              "      <td>Whittier Heights</td>\n",
              "      <td>Seattle</td>\n",
              "    </tr>\n",
              "    <tr>\n",
              "      <th>4</th>\n",
              "      <td>20141027</td>\n",
              "      <td>555000.0</td>\n",
              "      <td>3</td>\n",
              "      <td>2.00</td>\n",
              "      <td>1980</td>\n",
              "      <td>3478</td>\n",
              "      <td>1.5</td>\n",
              "      <td>0</td>\n",
              "      <td>0</td>\n",
              "      <td>4</td>\n",
              "      <td>7</td>\n",
              "      <td>1440</td>\n",
              "      <td>540</td>\n",
              "      <td>1929</td>\n",
              "      <td>0</td>\n",
              "      <td>1610</td>\n",
              "      <td>3478</td>\n",
              "      <td>Whittier Heights</td>\n",
              "      <td>Seattle</td>\n",
              "    </tr>\n",
              "  </tbody>\n",
              "</table>\n",
              "</div>\n",
              "      <button class=\"colab-df-convert\" onclick=\"convertToInteractive('df-9ce4e74f-c5ec-47a0-9a10-7a4a12e0af99')\"\n",
              "              title=\"Convert this dataframe to an interactive table.\"\n",
              "              style=\"display:none;\">\n",
              "        \n",
              "  <svg xmlns=\"http://www.w3.org/2000/svg\" height=\"24px\"viewBox=\"0 0 24 24\"\n",
              "       width=\"24px\">\n",
              "    <path d=\"M0 0h24v24H0V0z\" fill=\"none\"/>\n",
              "    <path d=\"M18.56 5.44l.94 2.06.94-2.06 2.06-.94-2.06-.94-.94-2.06-.94 2.06-2.06.94zm-11 1L8.5 8.5l.94-2.06 2.06-.94-2.06-.94L8.5 2.5l-.94 2.06-2.06.94zm10 10l.94 2.06.94-2.06 2.06-.94-2.06-.94-.94-2.06-.94 2.06-2.06.94z\"/><path d=\"M17.41 7.96l-1.37-1.37c-.4-.4-.92-.59-1.43-.59-.52 0-1.04.2-1.43.59L10.3 9.45l-7.72 7.72c-.78.78-.78 2.05 0 2.83L4 21.41c.39.39.9.59 1.41.59.51 0 1.02-.2 1.41-.59l7.78-7.78 2.81-2.81c.8-.78.8-2.07 0-2.86zM5.41 20L4 18.59l7.72-7.72 1.47 1.35L5.41 20z\"/>\n",
              "  </svg>\n",
              "      </button>\n",
              "      \n",
              "  <style>\n",
              "    .colab-df-container {\n",
              "      display:flex;\n",
              "      flex-wrap:wrap;\n",
              "      gap: 12px;\n",
              "    }\n",
              "\n",
              "    .colab-df-convert {\n",
              "      background-color: #E8F0FE;\n",
              "      border: none;\n",
              "      border-radius: 50%;\n",
              "      cursor: pointer;\n",
              "      display: none;\n",
              "      fill: #1967D2;\n",
              "      height: 32px;\n",
              "      padding: 0 0 0 0;\n",
              "      width: 32px;\n",
              "    }\n",
              "\n",
              "    .colab-df-convert:hover {\n",
              "      background-color: #E2EBFA;\n",
              "      box-shadow: 0px 1px 2px rgba(60, 64, 67, 0.3), 0px 1px 3px 1px rgba(60, 64, 67, 0.15);\n",
              "      fill: #174EA6;\n",
              "    }\n",
              "\n",
              "    [theme=dark] .colab-df-convert {\n",
              "      background-color: #3B4455;\n",
              "      fill: #D2E3FC;\n",
              "    }\n",
              "\n",
              "    [theme=dark] .colab-df-convert:hover {\n",
              "      background-color: #434B5C;\n",
              "      box-shadow: 0px 1px 3px 1px rgba(0, 0, 0, 0.15);\n",
              "      filter: drop-shadow(0px 1px 2px rgba(0, 0, 0, 0.3));\n",
              "      fill: #FFFFFF;\n",
              "    }\n",
              "  </style>\n",
              "\n",
              "      <script>\n",
              "        const buttonEl =\n",
              "          document.querySelector('#df-9ce4e74f-c5ec-47a0-9a10-7a4a12e0af99 button.colab-df-convert');\n",
              "        buttonEl.style.display =\n",
              "          google.colab.kernel.accessAllowed ? 'block' : 'none';\n",
              "\n",
              "        async function convertToInteractive(key) {\n",
              "          const element = document.querySelector('#df-9ce4e74f-c5ec-47a0-9a10-7a4a12e0af99');\n",
              "          const dataTable =\n",
              "            await google.colab.kernel.invokeFunction('convertToInteractive',\n",
              "                                                     [key], {});\n",
              "          if (!dataTable) return;\n",
              "\n",
              "          const docLinkHtml = 'Like what you see? Visit the ' +\n",
              "            '<a target=\"_blank\" href=https://colab.research.google.com/notebooks/data_table.ipynb>data table notebook</a>'\n",
              "            + ' to learn more about interactive tables.';\n",
              "          element.innerHTML = '';\n",
              "          dataTable['output_type'] = 'display_data';\n",
              "          await google.colab.output.renderOutput(dataTable, element);\n",
              "          const docLink = document.createElement('div');\n",
              "          docLink.innerHTML = docLinkHtml;\n",
              "          element.appendChild(docLink);\n",
              "        }\n",
              "      </script>\n",
              "    </div>\n",
              "  </div>\n",
              "  "
            ]
          },
          "metadata": {},
          "execution_count": 10
        }
      ]
    },
    {
      "cell_type": "code",
      "source": [
        "df.date  = pd.to_datetime(df.date, format='%Y%m%d', yearfirst=True)\n",
        "df.head()"
      ],
      "metadata": {
        "colab": {
          "base_uri": "https://localhost:8080/",
          "height": 357
        },
        "id": "-EQQYFLLUTJO",
        "outputId": "1b86b476-45c5-406c-e32b-8a221984e3c5"
      },
      "execution_count": 11,
      "outputs": [
        {
          "output_type": "execute_result",
          "data": {
            "text/plain": [
              "        date     price  bedrooms  bathrooms  sqft_living  sqft_lot  floors  \\\n",
              "0 2014-05-27  468000.0         2       1.00         1160      6000     1.0   \n",
              "1 2014-06-24  438000.0         3       1.75         1520      6380     1.0   \n",
              "2 2014-06-24  687500.0         4       1.75         2330      5000     1.5   \n",
              "3 2014-11-10  535000.0         3       1.00         1090      3000     1.5   \n",
              "4 2014-10-27  555000.0         3       2.00         1980      3478     1.5   \n",
              "\n",
              "   waterfront  view  condition  grade  sqft_above  sqft_basement  yr_built  \\\n",
              "0           0     0          4      7         860            300      1942   \n",
              "1           0     0          3      7         790            730      1948   \n",
              "2           0     0          4      7        1510            820      1929   \n",
              "3           0     0          4      8        1090              0      1929   \n",
              "4           0     0          4      7        1440            540      1929   \n",
              "\n",
              "   yr_renovated  sqft_living15  sqft_lot15      neighborhood     city  \n",
              "0             0           1330        6000          Wedgwood  Seattle  \n",
              "1             0           1520        6235          Wedgwood  Seattle  \n",
              "2             0           1460        5000  Whittier Heights  Seattle  \n",
              "3             0           1570        5080  Whittier Heights  Seattle  \n",
              "4             0           1610        3478  Whittier Heights  Seattle  "
            ],
            "text/html": [
              "\n",
              "  <div id=\"df-62a834b5-d4a5-4526-b791-3376f6faa0f0\">\n",
              "    <div class=\"colab-df-container\">\n",
              "      <div>\n",
              "<style scoped>\n",
              "    .dataframe tbody tr th:only-of-type {\n",
              "        vertical-align: middle;\n",
              "    }\n",
              "\n",
              "    .dataframe tbody tr th {\n",
              "        vertical-align: top;\n",
              "    }\n",
              "\n",
              "    .dataframe thead th {\n",
              "        text-align: right;\n",
              "    }\n",
              "</style>\n",
              "<table border=\"1\" class=\"dataframe\">\n",
              "  <thead>\n",
              "    <tr style=\"text-align: right;\">\n",
              "      <th></th>\n",
              "      <th>date</th>\n",
              "      <th>price</th>\n",
              "      <th>bedrooms</th>\n",
              "      <th>bathrooms</th>\n",
              "      <th>sqft_living</th>\n",
              "      <th>sqft_lot</th>\n",
              "      <th>floors</th>\n",
              "      <th>waterfront</th>\n",
              "      <th>view</th>\n",
              "      <th>condition</th>\n",
              "      <th>grade</th>\n",
              "      <th>sqft_above</th>\n",
              "      <th>sqft_basement</th>\n",
              "      <th>yr_built</th>\n",
              "      <th>yr_renovated</th>\n",
              "      <th>sqft_living15</th>\n",
              "      <th>sqft_lot15</th>\n",
              "      <th>neighborhood</th>\n",
              "      <th>city</th>\n",
              "    </tr>\n",
              "  </thead>\n",
              "  <tbody>\n",
              "    <tr>\n",
              "      <th>0</th>\n",
              "      <td>2014-05-27</td>\n",
              "      <td>468000.0</td>\n",
              "      <td>2</td>\n",
              "      <td>1.00</td>\n",
              "      <td>1160</td>\n",
              "      <td>6000</td>\n",
              "      <td>1.0</td>\n",
              "      <td>0</td>\n",
              "      <td>0</td>\n",
              "      <td>4</td>\n",
              "      <td>7</td>\n",
              "      <td>860</td>\n",
              "      <td>300</td>\n",
              "      <td>1942</td>\n",
              "      <td>0</td>\n",
              "      <td>1330</td>\n",
              "      <td>6000</td>\n",
              "      <td>Wedgwood</td>\n",
              "      <td>Seattle</td>\n",
              "    </tr>\n",
              "    <tr>\n",
              "      <th>1</th>\n",
              "      <td>2014-06-24</td>\n",
              "      <td>438000.0</td>\n",
              "      <td>3</td>\n",
              "      <td>1.75</td>\n",
              "      <td>1520</td>\n",
              "      <td>6380</td>\n",
              "      <td>1.0</td>\n",
              "      <td>0</td>\n",
              "      <td>0</td>\n",
              "      <td>3</td>\n",
              "      <td>7</td>\n",
              "      <td>790</td>\n",
              "      <td>730</td>\n",
              "      <td>1948</td>\n",
              "      <td>0</td>\n",
              "      <td>1520</td>\n",
              "      <td>6235</td>\n",
              "      <td>Wedgwood</td>\n",
              "      <td>Seattle</td>\n",
              "    </tr>\n",
              "    <tr>\n",
              "      <th>2</th>\n",
              "      <td>2014-06-24</td>\n",
              "      <td>687500.0</td>\n",
              "      <td>4</td>\n",
              "      <td>1.75</td>\n",
              "      <td>2330</td>\n",
              "      <td>5000</td>\n",
              "      <td>1.5</td>\n",
              "      <td>0</td>\n",
              "      <td>0</td>\n",
              "      <td>4</td>\n",
              "      <td>7</td>\n",
              "      <td>1510</td>\n",
              "      <td>820</td>\n",
              "      <td>1929</td>\n",
              "      <td>0</td>\n",
              "      <td>1460</td>\n",
              "      <td>5000</td>\n",
              "      <td>Whittier Heights</td>\n",
              "      <td>Seattle</td>\n",
              "    </tr>\n",
              "    <tr>\n",
              "      <th>3</th>\n",
              "      <td>2014-11-10</td>\n",
              "      <td>535000.0</td>\n",
              "      <td>3</td>\n",
              "      <td>1.00</td>\n",
              "      <td>1090</td>\n",
              "      <td>3000</td>\n",
              "      <td>1.5</td>\n",
              "      <td>0</td>\n",
              "      <td>0</td>\n",
              "      <td>4</td>\n",
              "      <td>8</td>\n",
              "      <td>1090</td>\n",
              "      <td>0</td>\n",
              "      <td>1929</td>\n",
              "      <td>0</td>\n",
              "      <td>1570</td>\n",
              "      <td>5080</td>\n",
              "      <td>Whittier Heights</td>\n",
              "      <td>Seattle</td>\n",
              "    </tr>\n",
              "    <tr>\n",
              "      <th>4</th>\n",
              "      <td>2014-10-27</td>\n",
              "      <td>555000.0</td>\n",
              "      <td>3</td>\n",
              "      <td>2.00</td>\n",
              "      <td>1980</td>\n",
              "      <td>3478</td>\n",
              "      <td>1.5</td>\n",
              "      <td>0</td>\n",
              "      <td>0</td>\n",
              "      <td>4</td>\n",
              "      <td>7</td>\n",
              "      <td>1440</td>\n",
              "      <td>540</td>\n",
              "      <td>1929</td>\n",
              "      <td>0</td>\n",
              "      <td>1610</td>\n",
              "      <td>3478</td>\n",
              "      <td>Whittier Heights</td>\n",
              "      <td>Seattle</td>\n",
              "    </tr>\n",
              "  </tbody>\n",
              "</table>\n",
              "</div>\n",
              "      <button class=\"colab-df-convert\" onclick=\"convertToInteractive('df-62a834b5-d4a5-4526-b791-3376f6faa0f0')\"\n",
              "              title=\"Convert this dataframe to an interactive table.\"\n",
              "              style=\"display:none;\">\n",
              "        \n",
              "  <svg xmlns=\"http://www.w3.org/2000/svg\" height=\"24px\"viewBox=\"0 0 24 24\"\n",
              "       width=\"24px\">\n",
              "    <path d=\"M0 0h24v24H0V0z\" fill=\"none\"/>\n",
              "    <path d=\"M18.56 5.44l.94 2.06.94-2.06 2.06-.94-2.06-.94-.94-2.06-.94 2.06-2.06.94zm-11 1L8.5 8.5l.94-2.06 2.06-.94-2.06-.94L8.5 2.5l-.94 2.06-2.06.94zm10 10l.94 2.06.94-2.06 2.06-.94-2.06-.94-.94-2.06-.94 2.06-2.06.94z\"/><path d=\"M17.41 7.96l-1.37-1.37c-.4-.4-.92-.59-1.43-.59-.52 0-1.04.2-1.43.59L10.3 9.45l-7.72 7.72c-.78.78-.78 2.05 0 2.83L4 21.41c.39.39.9.59 1.41.59.51 0 1.02-.2 1.41-.59l7.78-7.78 2.81-2.81c.8-.78.8-2.07 0-2.86zM5.41 20L4 18.59l7.72-7.72 1.47 1.35L5.41 20z\"/>\n",
              "  </svg>\n",
              "      </button>\n",
              "      \n",
              "  <style>\n",
              "    .colab-df-container {\n",
              "      display:flex;\n",
              "      flex-wrap:wrap;\n",
              "      gap: 12px;\n",
              "    }\n",
              "\n",
              "    .colab-df-convert {\n",
              "      background-color: #E8F0FE;\n",
              "      border: none;\n",
              "      border-radius: 50%;\n",
              "      cursor: pointer;\n",
              "      display: none;\n",
              "      fill: #1967D2;\n",
              "      height: 32px;\n",
              "      padding: 0 0 0 0;\n",
              "      width: 32px;\n",
              "    }\n",
              "\n",
              "    .colab-df-convert:hover {\n",
              "      background-color: #E2EBFA;\n",
              "      box-shadow: 0px 1px 2px rgba(60, 64, 67, 0.3), 0px 1px 3px 1px rgba(60, 64, 67, 0.15);\n",
              "      fill: #174EA6;\n",
              "    }\n",
              "\n",
              "    [theme=dark] .colab-df-convert {\n",
              "      background-color: #3B4455;\n",
              "      fill: #D2E3FC;\n",
              "    }\n",
              "\n",
              "    [theme=dark] .colab-df-convert:hover {\n",
              "      background-color: #434B5C;\n",
              "      box-shadow: 0px 1px 3px 1px rgba(0, 0, 0, 0.15);\n",
              "      filter: drop-shadow(0px 1px 2px rgba(0, 0, 0, 0.3));\n",
              "      fill: #FFFFFF;\n",
              "    }\n",
              "  </style>\n",
              "\n",
              "      <script>\n",
              "        const buttonEl =\n",
              "          document.querySelector('#df-62a834b5-d4a5-4526-b791-3376f6faa0f0 button.colab-df-convert');\n",
              "        buttonEl.style.display =\n",
              "          google.colab.kernel.accessAllowed ? 'block' : 'none';\n",
              "\n",
              "        async function convertToInteractive(key) {\n",
              "          const element = document.querySelector('#df-62a834b5-d4a5-4526-b791-3376f6faa0f0');\n",
              "          const dataTable =\n",
              "            await google.colab.kernel.invokeFunction('convertToInteractive',\n",
              "                                                     [key], {});\n",
              "          if (!dataTable) return;\n",
              "\n",
              "          const docLinkHtml = 'Like what you see? Visit the ' +\n",
              "            '<a target=\"_blank\" href=https://colab.research.google.com/notebooks/data_table.ipynb>data table notebook</a>'\n",
              "            + ' to learn more about interactive tables.';\n",
              "          element.innerHTML = '';\n",
              "          dataTable['output_type'] = 'display_data';\n",
              "          await google.colab.output.renderOutput(dataTable, element);\n",
              "          const docLink = document.createElement('div');\n",
              "          docLink.innerHTML = docLinkHtml;\n",
              "          element.appendChild(docLink);\n",
              "        }\n",
              "      </script>\n",
              "    </div>\n",
              "  </div>\n",
              "  "
            ]
          },
          "metadata": {},
          "execution_count": 11
        }
      ]
    },
    {
      "cell_type": "markdown",
      "source": [
        "## Desagregamento de Dados por Bairro"
      ],
      "metadata": {
        "id": "aqqGk7LHUifT"
      }
    },
    {
      "cell_type": "code",
      "source": [
        "df.neighborhood.unique()"
      ],
      "metadata": {
        "colab": {
          "base_uri": "https://localhost:8080/"
        },
        "id": "Yot62KAPUY45",
        "outputId": "eb2c90a9-a317-4126-de08-6bb722586d84"
      },
      "execution_count": 12,
      "outputs": [
        {
          "output_type": "execute_result",
          "data": {
            "text/plain": [
              "array(['Wedgwood', 'Whittier Heights', 'Highland Park'], dtype=object)"
            ]
          },
          "metadata": {},
          "execution_count": 12
        }
      ]
    },
    {
      "cell_type": "code",
      "source": [
        "df_Wedgwood = df.query('neighborhood == \"Wedgwood\"')\n",
        "df_Wedgwood.shape[0]"
      ],
      "metadata": {
        "colab": {
          "base_uri": "https://localhost:8080/"
        },
        "id": "ZTTAI9USUn1p",
        "outputId": "fc3a2d66-1713-44a9-f1c5-1fa4725c3cef"
      },
      "execution_count": 13,
      "outputs": [
        {
          "output_type": "execute_result",
          "data": {
            "text/plain": [
              "133"
            ]
          },
          "metadata": {},
          "execution_count": 13
        }
      ]
    },
    {
      "cell_type": "code",
      "source": [
        "df_Whittier_Heights = df.query('neighborhood == \"Whittier Heights\"')\n",
        "df_Whittier_Heights.shape[0]"
      ],
      "metadata": {
        "colab": {
          "base_uri": "https://localhost:8080/"
        },
        "id": "_mqHt2voUyT3",
        "outputId": "467e95d8-a1e9-454e-b11b-87462e4809f6"
      },
      "execution_count": 14,
      "outputs": [
        {
          "output_type": "execute_result",
          "data": {
            "text/plain": [
              "157"
            ]
          },
          "metadata": {},
          "execution_count": 14
        }
      ]
    },
    {
      "cell_type": "code",
      "source": [
        "df_Highland_Park = df.query('neighborhood == \"Highland Park\"')\n",
        "df_Highland_Park.shape[0]"
      ],
      "metadata": {
        "colab": {
          "base_uri": "https://localhost:8080/"
        },
        "id": "tP7ioxP1U9hd",
        "outputId": "1c9b3704-0f4c-4191-b981-4cc4c584cd91"
      },
      "execution_count": 15,
      "outputs": [
        {
          "output_type": "execute_result",
          "data": {
            "text/plain": [
              "139"
            ]
          },
          "metadata": {},
          "execution_count": 15
        }
      ]
    },
    {
      "cell_type": "markdown",
      "source": [
        "## Identificação e Limpeza de Dados Discrepantes\n",
        "\n"
      ],
      "metadata": {
        "id": "l8eT0daR0Rt5"
      }
    },
    {
      "cell_type": "code",
      "source": [
        "df_Wedgwood.describe()"
      ],
      "metadata": {
        "id": "4wnqBTFTVFsR",
        "colab": {
          "base_uri": "https://localhost:8080/",
          "height": 364
        },
        "outputId": "c9c58fff-e861-47ae-ec2d-c711e89dfb7e"
      },
      "execution_count": 16,
      "outputs": [
        {
          "output_type": "execute_result",
          "data": {
            "text/plain": [
              "              price    bedrooms   bathrooms  sqft_living      sqft_lot  \\\n",
              "count  1.330000e+02  133.000000  133.000000   133.000000    133.000000   \n",
              "mean   5.572122e+05    3.218045    1.798872  1735.172932   6303.842105   \n",
              "std    1.579290e+05    0.915674    0.637718   646.491376   2475.616360   \n",
              "min    2.500000e+05    1.000000    1.000000   700.000000    867.000000   \n",
              "25%    4.455000e+05    3.000000    1.000000  1170.000000   5100.000000   \n",
              "50%    5.250000e+05    3.000000    1.750000  1680.000000   6000.000000   \n",
              "75%    6.370000e+05    4.000000    2.250000  2100.000000   6534.000000   \n",
              "max    1.075000e+06    6.000000    3.500000  3500.000000  20824.000000   \n",
              "\n",
              "           floors  waterfront        view   condition       grade  \\\n",
              "count  133.000000       133.0  133.000000  133.000000  133.000000   \n",
              "mean     1.266917         0.0    0.067669    3.360902    7.210526   \n",
              "std      0.446149         0.0    0.352383    0.699982    0.749269   \n",
              "min      1.000000         0.0    0.000000    2.000000    5.000000   \n",
              "25%      1.000000         0.0    0.000000    3.000000    7.000000   \n",
              "50%      1.000000         0.0    0.000000    3.000000    7.000000   \n",
              "75%      1.500000         0.0    0.000000    4.000000    7.000000   \n",
              "max      3.000000         0.0    2.000000    5.000000   10.000000   \n",
              "\n",
              "        sqft_above  sqft_basement     yr_built  yr_renovated  sqft_living15  \\\n",
              "count   133.000000     133.000000   133.000000    133.000000     133.000000   \n",
              "mean   1322.526316     412.646617  1952.894737    104.939850    1626.142857   \n",
              "std     517.821421     395.236143    21.578701    446.929317     370.632448   \n",
              "min     590.000000       0.000000  1909.000000      0.000000     840.000000   \n",
              "25%     930.000000       0.000000  1941.000000      0.000000    1410.000000   \n",
              "50%    1180.000000     320.000000  1949.000000      0.000000    1620.000000   \n",
              "75%    1560.000000     750.000000  1958.000000      0.000000    1770.000000   \n",
              "max    3400.000000    1600.000000  2014.000000   2014.000000    3490.000000   \n",
              "\n",
              "         sqft_lot15  \n",
              "count    133.000000  \n",
              "mean    6005.000000  \n",
              "std     1392.016077  \n",
              "min     1322.000000  \n",
              "25%     5100.000000  \n",
              "50%     6000.000000  \n",
              "75%     6525.000000  \n",
              "max    10578.000000  "
            ],
            "text/html": [
              "\n",
              "  <div id=\"df-b1ec16d0-eaa5-4ac7-9779-efc0cd0e3155\">\n",
              "    <div class=\"colab-df-container\">\n",
              "      <div>\n",
              "<style scoped>\n",
              "    .dataframe tbody tr th:only-of-type {\n",
              "        vertical-align: middle;\n",
              "    }\n",
              "\n",
              "    .dataframe tbody tr th {\n",
              "        vertical-align: top;\n",
              "    }\n",
              "\n",
              "    .dataframe thead th {\n",
              "        text-align: right;\n",
              "    }\n",
              "</style>\n",
              "<table border=\"1\" class=\"dataframe\">\n",
              "  <thead>\n",
              "    <tr style=\"text-align: right;\">\n",
              "      <th></th>\n",
              "      <th>price</th>\n",
              "      <th>bedrooms</th>\n",
              "      <th>bathrooms</th>\n",
              "      <th>sqft_living</th>\n",
              "      <th>sqft_lot</th>\n",
              "      <th>floors</th>\n",
              "      <th>waterfront</th>\n",
              "      <th>view</th>\n",
              "      <th>condition</th>\n",
              "      <th>grade</th>\n",
              "      <th>sqft_above</th>\n",
              "      <th>sqft_basement</th>\n",
              "      <th>yr_built</th>\n",
              "      <th>yr_renovated</th>\n",
              "      <th>sqft_living15</th>\n",
              "      <th>sqft_lot15</th>\n",
              "    </tr>\n",
              "  </thead>\n",
              "  <tbody>\n",
              "    <tr>\n",
              "      <th>count</th>\n",
              "      <td>1.330000e+02</td>\n",
              "      <td>133.000000</td>\n",
              "      <td>133.000000</td>\n",
              "      <td>133.000000</td>\n",
              "      <td>133.000000</td>\n",
              "      <td>133.000000</td>\n",
              "      <td>133.0</td>\n",
              "      <td>133.000000</td>\n",
              "      <td>133.000000</td>\n",
              "      <td>133.000000</td>\n",
              "      <td>133.000000</td>\n",
              "      <td>133.000000</td>\n",
              "      <td>133.000000</td>\n",
              "      <td>133.000000</td>\n",
              "      <td>133.000000</td>\n",
              "      <td>133.000000</td>\n",
              "    </tr>\n",
              "    <tr>\n",
              "      <th>mean</th>\n",
              "      <td>5.572122e+05</td>\n",
              "      <td>3.218045</td>\n",
              "      <td>1.798872</td>\n",
              "      <td>1735.172932</td>\n",
              "      <td>6303.842105</td>\n",
              "      <td>1.266917</td>\n",
              "      <td>0.0</td>\n",
              "      <td>0.067669</td>\n",
              "      <td>3.360902</td>\n",
              "      <td>7.210526</td>\n",
              "      <td>1322.526316</td>\n",
              "      <td>412.646617</td>\n",
              "      <td>1952.894737</td>\n",
              "      <td>104.939850</td>\n",
              "      <td>1626.142857</td>\n",
              "      <td>6005.000000</td>\n",
              "    </tr>\n",
              "    <tr>\n",
              "      <th>std</th>\n",
              "      <td>1.579290e+05</td>\n",
              "      <td>0.915674</td>\n",
              "      <td>0.637718</td>\n",
              "      <td>646.491376</td>\n",
              "      <td>2475.616360</td>\n",
              "      <td>0.446149</td>\n",
              "      <td>0.0</td>\n",
              "      <td>0.352383</td>\n",
              "      <td>0.699982</td>\n",
              "      <td>0.749269</td>\n",
              "      <td>517.821421</td>\n",
              "      <td>395.236143</td>\n",
              "      <td>21.578701</td>\n",
              "      <td>446.929317</td>\n",
              "      <td>370.632448</td>\n",
              "      <td>1392.016077</td>\n",
              "    </tr>\n",
              "    <tr>\n",
              "      <th>min</th>\n",
              "      <td>2.500000e+05</td>\n",
              "      <td>1.000000</td>\n",
              "      <td>1.000000</td>\n",
              "      <td>700.000000</td>\n",
              "      <td>867.000000</td>\n",
              "      <td>1.000000</td>\n",
              "      <td>0.0</td>\n",
              "      <td>0.000000</td>\n",
              "      <td>2.000000</td>\n",
              "      <td>5.000000</td>\n",
              "      <td>590.000000</td>\n",
              "      <td>0.000000</td>\n",
              "      <td>1909.000000</td>\n",
              "      <td>0.000000</td>\n",
              "      <td>840.000000</td>\n",
              "      <td>1322.000000</td>\n",
              "    </tr>\n",
              "    <tr>\n",
              "      <th>25%</th>\n",
              "      <td>4.455000e+05</td>\n",
              "      <td>3.000000</td>\n",
              "      <td>1.000000</td>\n",
              "      <td>1170.000000</td>\n",
              "      <td>5100.000000</td>\n",
              "      <td>1.000000</td>\n",
              "      <td>0.0</td>\n",
              "      <td>0.000000</td>\n",
              "      <td>3.000000</td>\n",
              "      <td>7.000000</td>\n",
              "      <td>930.000000</td>\n",
              "      <td>0.000000</td>\n",
              "      <td>1941.000000</td>\n",
              "      <td>0.000000</td>\n",
              "      <td>1410.000000</td>\n",
              "      <td>5100.000000</td>\n",
              "    </tr>\n",
              "    <tr>\n",
              "      <th>50%</th>\n",
              "      <td>5.250000e+05</td>\n",
              "      <td>3.000000</td>\n",
              "      <td>1.750000</td>\n",
              "      <td>1680.000000</td>\n",
              "      <td>6000.000000</td>\n",
              "      <td>1.000000</td>\n",
              "      <td>0.0</td>\n",
              "      <td>0.000000</td>\n",
              "      <td>3.000000</td>\n",
              "      <td>7.000000</td>\n",
              "      <td>1180.000000</td>\n",
              "      <td>320.000000</td>\n",
              "      <td>1949.000000</td>\n",
              "      <td>0.000000</td>\n",
              "      <td>1620.000000</td>\n",
              "      <td>6000.000000</td>\n",
              "    </tr>\n",
              "    <tr>\n",
              "      <th>75%</th>\n",
              "      <td>6.370000e+05</td>\n",
              "      <td>4.000000</td>\n",
              "      <td>2.250000</td>\n",
              "      <td>2100.000000</td>\n",
              "      <td>6534.000000</td>\n",
              "      <td>1.500000</td>\n",
              "      <td>0.0</td>\n",
              "      <td>0.000000</td>\n",
              "      <td>4.000000</td>\n",
              "      <td>7.000000</td>\n",
              "      <td>1560.000000</td>\n",
              "      <td>750.000000</td>\n",
              "      <td>1958.000000</td>\n",
              "      <td>0.000000</td>\n",
              "      <td>1770.000000</td>\n",
              "      <td>6525.000000</td>\n",
              "    </tr>\n",
              "    <tr>\n",
              "      <th>max</th>\n",
              "      <td>1.075000e+06</td>\n",
              "      <td>6.000000</td>\n",
              "      <td>3.500000</td>\n",
              "      <td>3500.000000</td>\n",
              "      <td>20824.000000</td>\n",
              "      <td>3.000000</td>\n",
              "      <td>0.0</td>\n",
              "      <td>2.000000</td>\n",
              "      <td>5.000000</td>\n",
              "      <td>10.000000</td>\n",
              "      <td>3400.000000</td>\n",
              "      <td>1600.000000</td>\n",
              "      <td>2014.000000</td>\n",
              "      <td>2014.000000</td>\n",
              "      <td>3490.000000</td>\n",
              "      <td>10578.000000</td>\n",
              "    </tr>\n",
              "  </tbody>\n",
              "</table>\n",
              "</div>\n",
              "      <button class=\"colab-df-convert\" onclick=\"convertToInteractive('df-b1ec16d0-eaa5-4ac7-9779-efc0cd0e3155')\"\n",
              "              title=\"Convert this dataframe to an interactive table.\"\n",
              "              style=\"display:none;\">\n",
              "        \n",
              "  <svg xmlns=\"http://www.w3.org/2000/svg\" height=\"24px\"viewBox=\"0 0 24 24\"\n",
              "       width=\"24px\">\n",
              "    <path d=\"M0 0h24v24H0V0z\" fill=\"none\"/>\n",
              "    <path d=\"M18.56 5.44l.94 2.06.94-2.06 2.06-.94-2.06-.94-.94-2.06-.94 2.06-2.06.94zm-11 1L8.5 8.5l.94-2.06 2.06-.94-2.06-.94L8.5 2.5l-.94 2.06-2.06.94zm10 10l.94 2.06.94-2.06 2.06-.94-2.06-.94-.94-2.06-.94 2.06-2.06.94z\"/><path d=\"M17.41 7.96l-1.37-1.37c-.4-.4-.92-.59-1.43-.59-.52 0-1.04.2-1.43.59L10.3 9.45l-7.72 7.72c-.78.78-.78 2.05 0 2.83L4 21.41c.39.39.9.59 1.41.59.51 0 1.02-.2 1.41-.59l7.78-7.78 2.81-2.81c.8-.78.8-2.07 0-2.86zM5.41 20L4 18.59l7.72-7.72 1.47 1.35L5.41 20z\"/>\n",
              "  </svg>\n",
              "      </button>\n",
              "      \n",
              "  <style>\n",
              "    .colab-df-container {\n",
              "      display:flex;\n",
              "      flex-wrap:wrap;\n",
              "      gap: 12px;\n",
              "    }\n",
              "\n",
              "    .colab-df-convert {\n",
              "      background-color: #E8F0FE;\n",
              "      border: none;\n",
              "      border-radius: 50%;\n",
              "      cursor: pointer;\n",
              "      display: none;\n",
              "      fill: #1967D2;\n",
              "      height: 32px;\n",
              "      padding: 0 0 0 0;\n",
              "      width: 32px;\n",
              "    }\n",
              "\n",
              "    .colab-df-convert:hover {\n",
              "      background-color: #E2EBFA;\n",
              "      box-shadow: 0px 1px 2px rgba(60, 64, 67, 0.3), 0px 1px 3px 1px rgba(60, 64, 67, 0.15);\n",
              "      fill: #174EA6;\n",
              "    }\n",
              "\n",
              "    [theme=dark] .colab-df-convert {\n",
              "      background-color: #3B4455;\n",
              "      fill: #D2E3FC;\n",
              "    }\n",
              "\n",
              "    [theme=dark] .colab-df-convert:hover {\n",
              "      background-color: #434B5C;\n",
              "      box-shadow: 0px 1px 3px 1px rgba(0, 0, 0, 0.15);\n",
              "      filter: drop-shadow(0px 1px 2px rgba(0, 0, 0, 0.3));\n",
              "      fill: #FFFFFF;\n",
              "    }\n",
              "  </style>\n",
              "\n",
              "      <script>\n",
              "        const buttonEl =\n",
              "          document.querySelector('#df-b1ec16d0-eaa5-4ac7-9779-efc0cd0e3155 button.colab-df-convert');\n",
              "        buttonEl.style.display =\n",
              "          google.colab.kernel.accessAllowed ? 'block' : 'none';\n",
              "\n",
              "        async function convertToInteractive(key) {\n",
              "          const element = document.querySelector('#df-b1ec16d0-eaa5-4ac7-9779-efc0cd0e3155');\n",
              "          const dataTable =\n",
              "            await google.colab.kernel.invokeFunction('convertToInteractive',\n",
              "                                                     [key], {});\n",
              "          if (!dataTable) return;\n",
              "\n",
              "          const docLinkHtml = 'Like what you see? Visit the ' +\n",
              "            '<a target=\"_blank\" href=https://colab.research.google.com/notebooks/data_table.ipynb>data table notebook</a>'\n",
              "            + ' to learn more about interactive tables.';\n",
              "          element.innerHTML = '';\n",
              "          dataTable['output_type'] = 'display_data';\n",
              "          await google.colab.output.renderOutput(dataTable, element);\n",
              "          const docLink = document.createElement('div');\n",
              "          docLink.innerHTML = docLinkHtml;\n",
              "          element.appendChild(docLink);\n",
              "        }\n",
              "      </script>\n",
              "    </div>\n",
              "  </div>\n",
              "  "
            ]
          },
          "metadata": {},
          "execution_count": 16
        }
      ]
    },
    {
      "cell_type": "code",
      "source": [
        "sns.boxplot(x=df_Wedgwood.price)"
      ],
      "metadata": {
        "colab": {
          "base_uri": "https://localhost:8080/",
          "height": 296
        },
        "id": "pflfd3Vj0m2p",
        "outputId": "ac4ab91b-add3-49c8-a440-d5d05b7c1679"
      },
      "execution_count": 17,
      "outputs": [
        {
          "output_type": "execute_result",
          "data": {
            "text/plain": [
              "<AxesSubplot:xlabel='price'>"
            ]
          },
          "metadata": {},
          "execution_count": 17
        },
        {
          "output_type": "display_data",
          "data": {
            "text/plain": [
              "<Figure size 432x288 with 1 Axes>"
            ],
            "image/png": "[encoded data removed]"
          },
          "metadata": {
            "needs_background": "light"
          }
        }
      ]
    },
    {
      "cell_type": "code",
      "source": [
        "df_Wedgwood.view.value_counts()"
      ],
      "metadata": {
        "colab": {
          "base_uri": "https://localhost:8080/"
        },
        "id": "Q550C_rr73dD",
        "outputId": "ae0db623-595c-4bf2-b5ff-b7be44d89cc1"
      },
      "execution_count": 46,
      "outputs": [
        {
          "output_type": "execute_result",
          "data": {
            "text/plain": [
              "0    128\n",
              "2      4\n",
              "1      1\n",
              "Name: view, dtype: int64"
            ]
          },
          "metadata": {},
          "execution_count": 46
        }
      ]
    },
    {
      "cell_type": "code",
      "source": [
        "df_Whittier_Heights.describe()"
      ],
      "metadata": {
        "colab": {
          "base_uri": "https://localhost:8080/",
          "height": 364
        },
        "id": "XAQoe_165424",
        "outputId": "579ec40a-05f1-4e3d-c9e8-9fcf94647cbb"
      },
      "execution_count": 42,
      "outputs": [
        {
          "output_type": "execute_result",
          "data": {
            "text/plain": [
              "              price    bedrooms   bathrooms  sqft_living     sqft_lot  \\\n",
              "count  1.570000e+02  157.000000  157.000000   157.000000   157.000000   \n",
              "mean   5.671366e+05    3.121019    1.843949  1654.649682  3960.726115   \n",
              "std    1.389197e+05    1.008619    0.709603   590.174386  1200.666645   \n",
              "min    2.800000e+05    1.000000    0.750000   520.000000  1186.000000   \n",
              "25%    4.700000e+05    2.000000    1.000000  1250.000000  3031.000000   \n",
              "50%    5.400000e+05    3.000000    1.750000  1560.000000  3975.000000   \n",
              "75%    6.349500e+05    4.000000    2.250000  1970.000000  5000.000000   \n",
              "max    1.010000e+06    7.000000    3.750000  3500.000000  6985.000000   \n",
              "\n",
              "           floors  waterfront   view   condition       grade   sqft_above  \\\n",
              "count  157.000000       157.0  157.0  157.000000  157.000000   157.000000   \n",
              "mean     1.372611         0.0    0.0    3.630573    7.191083  1254.522293   \n",
              "std      0.399938         0.0    0.0    0.709700    0.671143   416.781696   \n",
              "min      1.000000         0.0    0.0    2.000000    6.000000   520.000000   \n",
              "25%      1.000000         0.0    0.0    3.000000    7.000000   940.000000   \n",
              "50%      1.500000         0.0    0.0    4.000000    7.000000  1170.000000   \n",
              "75%      1.500000         0.0    0.0    4.000000    8.000000  1450.000000   \n",
              "max      3.000000         0.0    0.0    5.000000    9.000000  3030.000000   \n",
              "\n",
              "       sqft_basement     yr_built  yr_renovated  sqft_living15   sqft_lot15  \n",
              "count     157.000000   157.000000    157.000000     157.000000   157.000000  \n",
              "mean      400.127389  1937.687898    127.414013    1429.108280  4239.547771  \n",
              "std       371.405831    30.422843    490.096747     198.566581   935.820232  \n",
              "min         0.000000  1900.000000      0.000000     980.000000  1349.000000  \n",
              "25%         0.000000  1918.000000      0.000000    1300.000000  3840.000000  \n",
              "50%       360.000000  1929.000000      0.000000    1430.000000  4240.000000  \n",
              "75%       720.000000  1946.000000      0.000000    1570.000000  5000.000000  \n",
              "max      1370.000000  2015.000000   2015.000000    2170.000000  6470.000000  "
            ],
            "text/html": [
              "\n",
              "  <div id=\"df-1e425854-ae38-4b1a-94db-3d1210e3a9b6\">\n",
              "    <div class=\"colab-df-container\">\n",
              "      <div>\n",
              "<style scoped>\n",
              "    .dataframe tbody tr th:only-of-type {\n",
              "        vertical-align: middle;\n",
              "    }\n",
              "\n",
              "    .dataframe tbody tr th {\n",
              "        vertical-align: top;\n",
              "    }\n",
              "\n",
              "    .dataframe thead th {\n",
              "        text-align: right;\n",
              "    }\n",
              "</style>\n",
              "<table border=\"1\" class=\"dataframe\">\n",
              "  <thead>\n",
              "    <tr style=\"text-align: right;\">\n",
              "      <th></th>\n",
              "      <th>price</th>\n",
              "      <th>bedrooms</th>\n",
              "      <th>bathrooms</th>\n",
              "      <th>sqft_living</th>\n",
              "      <th>sqft_lot</th>\n",
              "      <th>floors</th>\n",
              "      <th>waterfront</th>\n",
              "      <th>view</th>\n",
              "      <th>condition</th>\n",
              "      <th>grade</th>\n",
              "      <th>sqft_above</th>\n",
              "      <th>sqft_basement</th>\n",
              "      <th>yr_built</th>\n",
              "      <th>yr_renovated</th>\n",
              "      <th>sqft_living15</th>\n",
              "      <th>sqft_lot15</th>\n",
              "    </tr>\n",
              "  </thead>\n",
              "  <tbody>\n",
              "    <tr>\n",
              "      <th>count</th>\n",
              "      <td>1.570000e+02</td>\n",
              "      <td>157.000000</td>\n",
              "      <td>157.000000</td>\n",
              "      <td>157.000000</td>\n",
              "      <td>157.000000</td>\n",
              "      <td>157.000000</td>\n",
              "      <td>157.0</td>\n",
              "      <td>157.0</td>\n",
              "      <td>157.000000</td>\n",
              "      <td>157.000000</td>\n",
              "      <td>157.000000</td>\n",
              "      <td>157.000000</td>\n",
              "      <td>157.000000</td>\n",
              "      <td>157.000000</td>\n",
              "      <td>157.000000</td>\n",
              "      <td>157.000000</td>\n",
              "    </tr>\n",
              "    <tr>\n",
              "      <th>mean</th>\n",
              "      <td>5.671366e+05</td>\n",
              "      <td>3.121019</td>\n",
              "      <td>1.843949</td>\n",
              "      <td>1654.649682</td>\n",
              "      <td>3960.726115</td>\n",
              "      <td>1.372611</td>\n",
              "      <td>0.0</td>\n",
              "      <td>0.0</td>\n",
              "      <td>3.630573</td>\n",
              "      <td>7.191083</td>\n",
              "      <td>1254.522293</td>\n",
              "      <td>400.127389</td>\n",
              "      <td>1937.687898</td>\n",
              "      <td>127.414013</td>\n",
              "      <td>1429.108280</td>\n",
              "      <td>4239.547771</td>\n",
              "    </tr>\n",
              "    <tr>\n",
              "      <th>std</th>\n",
              "      <td>1.389197e+05</td>\n",
              "      <td>1.008619</td>\n",
              "      <td>0.709603</td>\n",
              "      <td>590.174386</td>\n",
              "      <td>1200.666645</td>\n",
              "      <td>0.399938</td>\n",
              "      <td>0.0</td>\n",
              "      <td>0.0</td>\n",
              "      <td>0.709700</td>\n",
              "      <td>0.671143</td>\n",
              "      <td>416.781696</td>\n",
              "      <td>371.405831</td>\n",
              "      <td>30.422843</td>\n",
              "      <td>490.096747</td>\n",
              "      <td>198.566581</td>\n",
              "      <td>935.820232</td>\n",
              "    </tr>\n",
              "    <tr>\n",
              "      <th>min</th>\n",
              "      <td>2.800000e+05</td>\n",
              "      <td>1.000000</td>\n",
              "      <td>0.750000</td>\n",
              "      <td>520.000000</td>\n",
              "      <td>1186.000000</td>\n",
              "      <td>1.000000</td>\n",
              "      <td>0.0</td>\n",
              "      <td>0.0</td>\n",
              "      <td>2.000000</td>\n",
              "      <td>6.000000</td>\n",
              "      <td>520.000000</td>\n",
              "      <td>0.000000</td>\n",
              "      <td>1900.000000</td>\n",
              "      <td>0.000000</td>\n",
              "      <td>980.000000</td>\n",
              "      <td>1349.000000</td>\n",
              "    </tr>\n",
              "    <tr>\n",
              "      <th>25%</th>\n",
              "      <td>4.700000e+05</td>\n",
              "      <td>2.000000</td>\n",
              "      <td>1.000000</td>\n",
              "      <td>1250.000000</td>\n",
              "      <td>3031.000000</td>\n",
              "      <td>1.000000</td>\n",
              "      <td>0.0</td>\n",
              "      <td>0.0</td>\n",
              "      <td>3.000000</td>\n",
              "      <td>7.000000</td>\n",
              "      <td>940.000000</td>\n",
              "      <td>0.000000</td>\n",
              "      <td>1918.000000</td>\n",
              "      <td>0.000000</td>\n",
              "      <td>1300.000000</td>\n",
              "      <td>3840.000000</td>\n",
              "    </tr>\n",
              "    <tr>\n",
              "      <th>50%</th>\n",
              "      <td>5.400000e+05</td>\n",
              "      <td>3.000000</td>\n",
              "      <td>1.750000</td>\n",
              "      <td>1560.000000</td>\n",
              "      <td>3975.000000</td>\n",
              "      <td>1.500000</td>\n",
              "      <td>0.0</td>\n",
              "      <td>0.0</td>\n",
              "      <td>4.000000</td>\n",
              "      <td>7.000000</td>\n",
              "      <td>1170.000000</td>\n",
              "      <td>360.000000</td>\n",
              "      <td>1929.000000</td>\n",
              "      <td>0.000000</td>\n",
              "      <td>1430.000000</td>\n",
              "      <td>4240.000000</td>\n",
              "    </tr>\n",
              "    <tr>\n",
              "      <th>75%</th>\n",
              "      <td>6.349500e+05</td>\n",
              "      <td>4.000000</td>\n",
              "      <td>2.250000</td>\n",
              "      <td>1970.000000</td>\n",
              "      <td>5000.000000</td>\n",
              "      <td>1.500000</td>\n",
              "      <td>0.0</td>\n",
              "      <td>0.0</td>\n",
              "      <td>4.000000</td>\n",
              "      <td>8.000000</td>\n",
              "      <td>1450.000000</td>\n",
              "      <td>720.000000</td>\n",
              "      <td>1946.000000</td>\n",
              "      <td>0.000000</td>\n",
              "      <td>1570.000000</td>\n",
              "      <td>5000.000000</td>\n",
              "    </tr>\n",
              "    <tr>\n",
              "      <th>max</th>\n",
              "      <td>1.010000e+06</td>\n",
              "      <td>7.000000</td>\n",
              "      <td>3.750000</td>\n",
              "      <td>3500.000000</td>\n",
              "      <td>6985.000000</td>\n",
              "      <td>3.000000</td>\n",
              "      <td>0.0</td>\n",
              "      <td>0.0</td>\n",
              "      <td>5.000000</td>\n",
              "      <td>9.000000</td>\n",
              "      <td>3030.000000</td>\n",
              "      <td>1370.000000</td>\n",
              "      <td>2015.000000</td>\n",
              "      <td>2015.000000</td>\n",
              "      <td>2170.000000</td>\n",
              "      <td>6470.000000</td>\n",
              "    </tr>\n",
              "  </tbody>\n",
              "</table>\n",
              "</div>\n",
              "      <button class=\"colab-df-convert\" onclick=\"convertToInteractive('df-1e425854-ae38-4b1a-94db-3d1210e3a9b6')\"\n",
              "              title=\"Convert this dataframe to an interactive table.\"\n",
              "              style=\"display:none;\">\n",
              "        \n",
              "  <svg xmlns=\"http://www.w3.org/2000/svg\" height=\"24px\"viewBox=\"0 0 24 24\"\n",
              "       width=\"24px\">\n",
              "    <path d=\"M0 0h24v24H0V0z\" fill=\"none\"/>\n",
              "    <path d=\"M18.56 5.44l.94 2.06.94-2.06 2.06-.94-2.06-.94-.94-2.06-.94 2.06-2.06.94zm-11 1L8.5 8.5l.94-2.06 2.06-.94-2.06-.94L8.5 2.5l-.94 2.06-2.06.94zm10 10l.94 2.06.94-2.06 2.06-.94-2.06-.94-.94-2.06-.94 2.06-2.06.94z\"/><path d=\"M17.41 7.96l-1.37-1.37c-.4-.4-.92-.59-1.43-.59-.52 0-1.04.2-1.43.59L10.3 9.45l-7.72 7.72c-.78.78-.78 2.05 0 2.83L4 21.41c.39.39.9.59 1.41.59.51 0 1.02-.2 1.41-.59l7.78-7.78 2.81-2.81c.8-.78.8-2.07 0-2.86zM5.41 20L4 18.59l7.72-7.72 1.47 1.35L5.41 20z\"/>\n",
              "  </svg>\n",
              "      </button>\n",
              "      \n",
              "  <style>\n",
              "    .colab-df-container {\n",
              "      display:flex;\n",
              "      flex-wrap:wrap;\n",
              "      gap: 12px;\n",
              "    }\n",
              "\n",
              "    .colab-df-convert {\n",
              "      background-color: #E8F0FE;\n",
              "      border: none;\n",
              "      border-radius: 50%;\n",
              "      cursor: pointer;\n",
              "      display: none;\n",
              "      fill: #1967D2;\n",
              "      height: 32px;\n",
              "      padding: 0 0 0 0;\n",
              "      width: 32px;\n",
              "    }\n",
              "\n",
              "    .colab-df-convert:hover {\n",
              "      background-color: #E2EBFA;\n",
              "      box-shadow: 0px 1px 2px rgba(60, 64, 67, 0.3), 0px 1px 3px 1px rgba(60, 64, 67, 0.15);\n",
              "      fill: #174EA6;\n",
              "    }\n",
              "\n",
              "    [theme=dark] .colab-df-convert {\n",
              "      background-color: #3B4455;\n",
              "      fill: #D2E3FC;\n",
              "    }\n",
              "\n",
              "    [theme=dark] .colab-df-convert:hover {\n",
              "      background-color: #434B5C;\n",
              "      box-shadow: 0px 1px 3px 1px rgba(0, 0, 0, 0.15);\n",
              "      filter: drop-shadow(0px 1px 2px rgba(0, 0, 0, 0.3));\n",
              "      fill: #FFFFFF;\n",
              "    }\n",
              "  </style>\n",
              "\n",
              "      <script>\n",
              "        const buttonEl =\n",
              "          document.querySelector('#df-1e425854-ae38-4b1a-94db-3d1210e3a9b6 button.colab-df-convert');\n",
              "        buttonEl.style.display =\n",
              "          google.colab.kernel.accessAllowed ? 'block' : 'none';\n",
              "\n",
              "        async function convertToInteractive(key) {\n",
              "          const element = document.querySelector('#df-1e425854-ae38-4b1a-94db-3d1210e3a9b6');\n",
              "          const dataTable =\n",
              "            await google.colab.kernel.invokeFunction('convertToInteractive',\n",
              "                                                     [key], {});\n",
              "          if (!dataTable) return;\n",
              "\n",
              "          const docLinkHtml = 'Like what you see? Visit the ' +\n",
              "            '<a target=\"_blank\" href=https://colab.research.google.com/notebooks/data_table.ipynb>data table notebook</a>'\n",
              "            + ' to learn more about interactive tables.';\n",
              "          element.innerHTML = '';\n",
              "          dataTable['output_type'] = 'display_data';\n",
              "          await google.colab.output.renderOutput(dataTable, element);\n",
              "          const docLink = document.createElement('div');\n",
              "          docLink.innerHTML = docLinkHtml;\n",
              "          element.appendChild(docLink);\n",
              "        }\n",
              "      </script>\n",
              "    </div>\n",
              "  </div>\n",
              "  "
            ]
          },
          "metadata": {},
          "execution_count": 42
        }
      ]
    },
    {
      "cell_type": "code",
      "source": [
        "sns.boxplot(x=df_Whittier_Heights.price)"
      ],
      "metadata": {
        "colab": {
          "base_uri": "https://localhost:8080/",
          "height": 296
        },
        "id": "UHFApYpu6dD4",
        "outputId": "23c397b2-5bb2-4fa2-b6ff-963ad175ab71"
      },
      "execution_count": 43,
      "outputs": [
        {
          "output_type": "execute_result",
          "data": {
            "text/plain": [
              "<AxesSubplot:xlabel='price'>"
            ]
          },
          "metadata": {},
          "execution_count": 43
        },
        {
          "output_type": "display_data",
          "data": {
            "text/plain": [
              "<Figure size 432x288 with 1 Axes>"
            ],
            "image/png": "[encoded data removed]"
          },
          "metadata": {
            "needs_background": "light"
          }
        }
      ]
    },
    {
      "cell_type": "code",
      "source": [
        "df_Whittier_Heights.view.value_counts()"
      ],
      "metadata": {
        "colab": {
          "base_uri": "https://localhost:8080/"
        },
        "id": "t22QMgLW644q",
        "outputId": "e0a97d52-805b-4beb-f404-7a20caa81087"
      },
      "execution_count": 45,
      "outputs": [
        {
          "output_type": "execute_result",
          "data": {
            "text/plain": [
              "0    157\n",
              "Name: view, dtype: int64"
            ]
          },
          "metadata": {},
          "execution_count": 45
        }
      ]
    },
    {
      "cell_type": "code",
      "source": [
        "df_Highland_Park.describe()"
      ],
      "metadata": {
        "colab": {
          "base_uri": "https://localhost:8080/",
          "height": 364
        },
        "id": "s21VIOUf7t6i",
        "outputId": "6d51fb32-28cc-433b-964f-bff65ec5bb82"
      },
      "execution_count": 47,
      "outputs": [
        {
          "output_type": "execute_result",
          "data": {
            "text/plain": [
              "               price    bedrooms   bathrooms  sqft_living      sqft_lot  \\\n",
              "count     139.000000  139.000000  139.000000   139.000000    139.000000   \n",
              "mean   301907.467626    3.064748    1.643885  1414.539568   5429.791367   \n",
              "std     83929.751047    1.022987    0.709650   564.396051   2401.520990   \n",
              "min     90000.000000    1.000000    0.750000   500.000000    649.000000   \n",
              "25%    249000.000000    2.000000    1.000000   985.000000   4005.000000   \n",
              "50%    300000.000000    3.000000    1.500000  1300.000000   5120.000000   \n",
              "75%    356000.000000    4.000000    2.000000  1725.000000   7258.000000   \n",
              "max    560000.000000    6.000000    4.000000  3120.000000  15240.000000   \n",
              "\n",
              "           floors  waterfront        view   condition       grade  \\\n",
              "count  139.000000       139.0  139.000000  139.000000  139.000000   \n",
              "mean     1.251799         0.0    0.093525    3.302158    6.575540   \n",
              "std      0.418651         0.0    0.448703    0.666536    0.751601   \n",
              "min      1.000000         0.0    0.000000    1.000000    4.000000   \n",
              "25%      1.000000         0.0    0.000000    3.000000    6.000000   \n",
              "50%      1.000000         0.0    0.000000    3.000000    7.000000   \n",
              "75%      1.500000         0.0    0.000000    3.500000    7.000000   \n",
              "max      3.000000         0.0    3.000000    5.000000    9.000000   \n",
              "\n",
              "        sqft_above  sqft_basement     yr_built  yr_renovated  sqft_living15  \\\n",
              "count   139.000000     139.000000   139.000000    139.000000     139.000000   \n",
              "mean   1097.345324     317.194245  1955.057554    128.669065    1306.489209   \n",
              "std     361.079555     371.563537    28.193115    490.807843     309.899712   \n",
              "min     500.000000       0.000000  1910.000000      0.000000     780.000000   \n",
              "25%     865.000000       0.000000  1931.000000      0.000000    1065.000000   \n",
              "50%    1070.000000     220.000000  1948.000000      0.000000    1260.000000   \n",
              "75%    1210.000000     540.000000  1973.000000      0.000000    1470.000000   \n",
              "max    2800.000000    1550.000000  2011.000000   2013.000000    2190.000000   \n",
              "\n",
              "        sqft_lot15  \n",
              "count   139.000000  \n",
              "mean   4934.920863  \n",
              "std    1883.555246  \n",
              "min     810.000000  \n",
              "25%    4000.000000  \n",
              "50%    5080.000000  \n",
              "75%    6175.000000  \n",
              "max    8280.000000  "
            ],
            "text/html": [
              "\n",
              "  <div id=\"df-aff7cb52-9172-478d-bd4b-b03e84d32ff1\">\n",
              "    <div class=\"colab-df-container\">\n",
              "      <div>\n",
              "<style scoped>\n",
              "    .dataframe tbody tr th:only-of-type {\n",
              "        vertical-align: middle;\n",
              "    }\n",
              "\n",
              "    .dataframe tbody tr th {\n",
              "        vertical-align: top;\n",
              "    }\n",
              "\n",
              "    .dataframe thead th {\n",
              "        text-align: right;\n",
              "    }\n",
              "</style>\n",
              "<table border=\"1\" class=\"dataframe\">\n",
              "  <thead>\n",
              "    <tr style=\"text-align: right;\">\n",
              "      <th></th>\n",
              "      <th>price</th>\n",
              "      <th>bedrooms</th>\n",
              "      <th>bathrooms</th>\n",
              "      <th>sqft_living</th>\n",
              "      <th>sqft_lot</th>\n",
              "      <th>floors</th>\n",
              "      <th>waterfront</th>\n",
              "      <th>view</th>\n",
              "      <th>condition</th>\n",
              "      <th>grade</th>\n",
              "      <th>sqft_above</th>\n",
              "      <th>sqft_basement</th>\n",
              "      <th>yr_built</th>\n",
              "      <th>yr_renovated</th>\n",
              "      <th>sqft_living15</th>\n",
              "      <th>sqft_lot15</th>\n",
              "    </tr>\n",
              "  </thead>\n",
              "  <tbody>\n",
              "    <tr>\n",
              "      <th>count</th>\n",
              "      <td>139.000000</td>\n",
              "      <td>139.000000</td>\n",
              "      <td>139.000000</td>\n",
              "      <td>139.000000</td>\n",
              "      <td>139.000000</td>\n",
              "      <td>139.000000</td>\n",
              "      <td>139.0</td>\n",
              "      <td>139.000000</td>\n",
              "      <td>139.000000</td>\n",
              "      <td>139.000000</td>\n",
              "      <td>139.000000</td>\n",
              "      <td>139.000000</td>\n",
              "      <td>139.000000</td>\n",
              "      <td>139.000000</td>\n",
              "      <td>139.000000</td>\n",
              "      <td>139.000000</td>\n",
              "    </tr>\n",
              "    <tr>\n",
              "      <th>mean</th>\n",
              "      <td>301907.467626</td>\n",
              "      <td>3.064748</td>\n",
              "      <td>1.643885</td>\n",
              "      <td>1414.539568</td>\n",
              "      <td>5429.791367</td>\n",
              "      <td>1.251799</td>\n",
              "      <td>0.0</td>\n",
              "      <td>0.093525</td>\n",
              "      <td>3.302158</td>\n",
              "      <td>6.575540</td>\n",
              "      <td>1097.345324</td>\n",
              "      <td>317.194245</td>\n",
              "      <td>1955.057554</td>\n",
              "      <td>128.669065</td>\n",
              "      <td>1306.489209</td>\n",
              "      <td>4934.920863</td>\n",
              "    </tr>\n",
              "    <tr>\n",
              "      <th>std</th>\n",
              "      <td>83929.751047</td>\n",
              "      <td>1.022987</td>\n",
              "      <td>0.709650</td>\n",
              "      <td>564.396051</td>\n",
              "      <td>2401.520990</td>\n",
              "      <td>0.418651</td>\n",
              "      <td>0.0</td>\n",
              "      <td>0.448703</td>\n",
              "      <td>0.666536</td>\n",
              "      <td>0.751601</td>\n",
              "      <td>361.079555</td>\n",
              "      <td>371.563537</td>\n",
              "      <td>28.193115</td>\n",
              "      <td>490.807843</td>\n",
              "      <td>309.899712</td>\n",
              "      <td>1883.555246</td>\n",
              "    </tr>\n",
              "    <tr>\n",
              "      <th>min</th>\n",
              "      <td>90000.000000</td>\n",
              "      <td>1.000000</td>\n",
              "      <td>0.750000</td>\n",
              "      <td>500.000000</td>\n",
              "      <td>649.000000</td>\n",
              "      <td>1.000000</td>\n",
              "      <td>0.0</td>\n",
              "      <td>0.000000</td>\n",
              "      <td>1.000000</td>\n",
              "      <td>4.000000</td>\n",
              "      <td>500.000000</td>\n",
              "      <td>0.000000</td>\n",
              "      <td>1910.000000</td>\n",
              "      <td>0.000000</td>\n",
              "      <td>780.000000</td>\n",
              "      <td>810.000000</td>\n",
              "    </tr>\n",
              "    <tr>\n",
              "      <th>25%</th>\n",
              "      <td>249000.000000</td>\n",
              "      <td>2.000000</td>\n",
              "      <td>1.000000</td>\n",
              "      <td>985.000000</td>\n",
              "      <td>4005.000000</td>\n",
              "      <td>1.000000</td>\n",
              "      <td>0.0</td>\n",
              "      <td>0.000000</td>\n",
              "      <td>3.000000</td>\n",
              "      <td>6.000000</td>\n",
              "      <td>865.000000</td>\n",
              "      <td>0.000000</td>\n",
              "      <td>1931.000000</td>\n",
              "      <td>0.000000</td>\n",
              "      <td>1065.000000</td>\n",
              "      <td>4000.000000</td>\n",
              "    </tr>\n",
              "    <tr>\n",
              "      <th>50%</th>\n",
              "      <td>300000.000000</td>\n",
              "      <td>3.000000</td>\n",
              "      <td>1.500000</td>\n",
              "      <td>1300.000000</td>\n",
              "      <td>5120.000000</td>\n",
              "      <td>1.000000</td>\n",
              "      <td>0.0</td>\n",
              "      <td>0.000000</td>\n",
              "      <td>3.000000</td>\n",
              "      <td>7.000000</td>\n",
              "      <td>1070.000000</td>\n",
              "      <td>220.000000</td>\n",
              "      <td>1948.000000</td>\n",
              "      <td>0.000000</td>\n",
              "      <td>1260.000000</td>\n",
              "      <td>5080.000000</td>\n",
              "    </tr>\n",
              "    <tr>\n",
              "      <th>75%</th>\n",
              "      <td>356000.000000</td>\n",
              "      <td>4.000000</td>\n",
              "      <td>2.000000</td>\n",
              "      <td>1725.000000</td>\n",
              "      <td>7258.000000</td>\n",
              "      <td>1.500000</td>\n",
              "      <td>0.0</td>\n",
              "      <td>0.000000</td>\n",
              "      <td>3.500000</td>\n",
              "      <td>7.000000</td>\n",
              "      <td>1210.000000</td>\n",
              "      <td>540.000000</td>\n",
              "      <td>1973.000000</td>\n",
              "      <td>0.000000</td>\n",
              "      <td>1470.000000</td>\n",
              "      <td>6175.000000</td>\n",
              "    </tr>\n",
              "    <tr>\n",
              "      <th>max</th>\n",
              "      <td>560000.000000</td>\n",
              "      <td>6.000000</td>\n",
              "      <td>4.000000</td>\n",
              "      <td>3120.000000</td>\n",
              "      <td>15240.000000</td>\n",
              "      <td>3.000000</td>\n",
              "      <td>0.0</td>\n",
              "      <td>3.000000</td>\n",
              "      <td>5.000000</td>\n",
              "      <td>9.000000</td>\n",
              "      <td>2800.000000</td>\n",
              "      <td>1550.000000</td>\n",
              "      <td>2011.000000</td>\n",
              "      <td>2013.000000</td>\n",
              "      <td>2190.000000</td>\n",
              "      <td>8280.000000</td>\n",
              "    </tr>\n",
              "  </tbody>\n",
              "</table>\n",
              "</div>\n",
              "      <button class=\"colab-df-convert\" onclick=\"convertToInteractive('df-aff7cb52-9172-478d-bd4b-b03e84d32ff1')\"\n",
              "              title=\"Convert this dataframe to an interactive table.\"\n",
              "              style=\"display:none;\">\n",
              "        \n",
              "  <svg xmlns=\"http://www.w3.org/2000/svg\" height=\"24px\"viewBox=\"0 0 24 24\"\n",
              "       width=\"24px\">\n",
              "    <path d=\"M0 0h24v24H0V0z\" fill=\"none\"/>\n",
              "    <path d=\"M18.56 5.44l.94 2.06.94-2.06 2.06-.94-2.06-.94-.94-2.06-.94 2.06-2.06.94zm-11 1L8.5 8.5l.94-2.06 2.06-.94-2.06-.94L8.5 2.5l-.94 2.06-2.06.94zm10 10l.94 2.06.94-2.06 2.06-.94-2.06-.94-.94-2.06-.94 2.06-2.06.94z\"/><path d=\"M17.41 7.96l-1.37-1.37c-.4-.4-.92-.59-1.43-.59-.52 0-1.04.2-1.43.59L10.3 9.45l-7.72 7.72c-.78.78-.78 2.05 0 2.83L4 21.41c.39.39.9.59 1.41.59.51 0 1.02-.2 1.41-.59l7.78-7.78 2.81-2.81c.8-.78.8-2.07 0-2.86zM5.41 20L4 18.59l7.72-7.72 1.47 1.35L5.41 20z\"/>\n",
              "  </svg>\n",
              "      </button>\n",
              "      \n",
              "  <style>\n",
              "    .colab-df-container {\n",
              "      display:flex;\n",
              "      flex-wrap:wrap;\n",
              "      gap: 12px;\n",
              "    }\n",
              "\n",
              "    .colab-df-convert {\n",
              "      background-color: #E8F0FE;\n",
              "      border: none;\n",
              "      border-radius: 50%;\n",
              "      cursor: pointer;\n",
              "      display: none;\n",
              "      fill: #1967D2;\n",
              "      height: 32px;\n",
              "      padding: 0 0 0 0;\n",
              "      width: 32px;\n",
              "    }\n",
              "\n",
              "    .colab-df-convert:hover {\n",
              "      background-color: #E2EBFA;\n",
              "      box-shadow: 0px 1px 2px rgba(60, 64, 67, 0.3), 0px 1px 3px 1px rgba(60, 64, 67, 0.15);\n",
              "      fill: #174EA6;\n",
              "    }\n",
              "\n",
              "    [theme=dark] .colab-df-convert {\n",
              "      background-color: #3B4455;\n",
              "      fill: #D2E3FC;\n",
              "    }\n",
              "\n",
              "    [theme=dark] .colab-df-convert:hover {\n",
              "      background-color: #434B5C;\n",
              "      box-shadow: 0px 1px 3px 1px rgba(0, 0, 0, 0.15);\n",
              "      filter: drop-shadow(0px 1px 2px rgba(0, 0, 0, 0.3));\n",
              "      fill: #FFFFFF;\n",
              "    }\n",
              "  </style>\n",
              "\n",
              "      <script>\n",
              "        const buttonEl =\n",
              "          document.querySelector('#df-aff7cb52-9172-478d-bd4b-b03e84d32ff1 button.colab-df-convert');\n",
              "        buttonEl.style.display =\n",
              "          google.colab.kernel.accessAllowed ? 'block' : 'none';\n",
              "\n",
              "        async function convertToInteractive(key) {\n",
              "          const element = document.querySelector('#df-aff7cb52-9172-478d-bd4b-b03e84d32ff1');\n",
              "          const dataTable =\n",
              "            await google.colab.kernel.invokeFunction('convertToInteractive',\n",
              "                                                     [key], {});\n",
              "          if (!dataTable) return;\n",
              "\n",
              "          const docLinkHtml = 'Like what you see? Visit the ' +\n",
              "            '<a target=\"_blank\" href=https://colab.research.google.com/notebooks/data_table.ipynb>data table notebook</a>'\n",
              "            + ' to learn more about interactive tables.';\n",
              "          element.innerHTML = '';\n",
              "          dataTable['output_type'] = 'display_data';\n",
              "          await google.colab.output.renderOutput(dataTable, element);\n",
              "          const docLink = document.createElement('div');\n",
              "          docLink.innerHTML = docLinkHtml;\n",
              "          element.appendChild(docLink);\n",
              "        }\n",
              "      </script>\n",
              "    </div>\n",
              "  </div>\n",
              "  "
            ]
          },
          "metadata": {},
          "execution_count": 47
        }
      ]
    },
    {
      "cell_type": "code",
      "source": [
        "df_Highland_Park.view.value_counts()"
      ],
      "metadata": {
        "colab": {
          "base_uri": "https://localhost:8080/"
        },
        "id": "94bVuFIW873N",
        "outputId": "7af54495-2658-4ce2-e685-213f186ea9bd"
      },
      "execution_count": 48,
      "outputs": [
        {
          "output_type": "execute_result",
          "data": {
            "text/plain": [
              "0    133\n",
              "2      5\n",
              "3      1\n",
              "Name: view, dtype: int64"
            ]
          },
          "metadata": {},
          "execution_count": 48
        }
      ]
    },
    {
      "cell_type": "code",
      "source": [
        "# A coluna view contém uma quantidade de zeros muito grande, o que aparentemente está incorreto, \n",
        "#considerando que tais dataframes contém imóveis de alto valores\n",
        "# A coluna waterfront não é utilizada nos bairros selecionados, portanto será deletada"
      ],
      "metadata": {
        "id": "A6o-zw7H9J3d"
      },
      "execution_count": 61,
      "outputs": []
    },
    {
      "cell_type": "code",
      "source": [
        "df_Wedgwood.drop('view', axis=1, inplace=True)\n",
        "df_Whittier_Heights.drop('view', axis=1, inplace=True)\n",
        "df_Highland_Park.drop('view', axis=1, inplace=True)"
      ],
      "metadata": {
        "colab": {
          "base_uri": "https://localhost:8080/"
        },
        "id": "We-m2YIc9o1N",
        "outputId": "427d4567-f261-48c8-80a3-ea369cae0a76"
      },
      "execution_count": 51,
      "outputs": [
        {
          "output_type": "stream",
          "name": "stderr",
          "text": [
            "/usr/local/lib/python3.9/dist-packages/pandas/core/frame.py:4906: SettingWithCopyWarning: \n",
            "A value is trying to be set on a copy of a slice from a DataFrame\n",
            "\n",
            "See the caveats in the documentation: https://pandas.pydata.org/pandas-docs/stable/user_guide/indexing.html#returning-a-view-versus-a-copy\n",
            "  \n"
          ]
        }
      ]
    },
    {
      "cell_type": "code",
      "source": [
        "df_Wedgwood.head()"
      ],
      "metadata": {
        "colab": {
          "base_uri": "https://localhost:8080/",
          "height": 357
        },
        "id": "hilooHT0-xGY",
        "outputId": "ba176b8d-380a-4275-868a-b479e246e264"
      },
      "execution_count": 52,
      "outputs": [
        {
          "output_type": "execute_result",
          "data": {
            "text/plain": [
              "         date     price  bedrooms  bathrooms  sqft_living  sqft_lot  floors  \\\n",
              "0  2014-05-27  468000.0         2       1.00         1160      6000     1.0   \n",
              "1  2014-06-24  438000.0         3       1.75         1520      6380     1.0   \n",
              "6  2014-05-16  350000.0         1       1.00          700      5100     1.0   \n",
              "9  2014-08-14  415000.0         2       1.00         1070      4500     1.0   \n",
              "11 2014-09-01  438924.0         3       1.50         1050      4590     1.0   \n",
              "\n",
              "    waterfront  condition  grade  sqft_above  sqft_basement  yr_built  \\\n",
              "0            0          4      7         860            300      1942   \n",
              "1            0          3      7         790            730      1948   \n",
              "6            0          3      7         700              0      1942   \n",
              "9            0          3      7        1070              0      1937   \n",
              "11           0          3      7         850            200      1949   \n",
              "\n",
              "    yr_renovated  sqft_living15  sqft_lot15 neighborhood     city  \n",
              "0              0           1330        6000     Wedgwood  Seattle  \n",
              "1              0           1520        6235     Wedgwood  Seattle  \n",
              "6              0           1010        5100     Wedgwood  Seattle  \n",
              "9              0           1320        4465     Wedgwood  Seattle  \n",
              "11             0           1770        5400     Wedgwood  Seattle  "
            ],
            "text/html": [
              "\n",
              "  <div id=\"df-124c7bd5-8da6-43f4-b68f-10880abb03ba\">\n",
              "    <div class=\"colab-df-container\">\n",
              "      <div>\n",
              "<style scoped>\n",
              "    .dataframe tbody tr th:only-of-type {\n",
              "        vertical-align: middle;\n",
              "    }\n",
              "\n",
              "    .dataframe tbody tr th {\n",
              "        vertical-align: top;\n",
              "    }\n",
              "\n",
              "    .dataframe thead th {\n",
              "        text-align: right;\n",
              "    }\n",
              "</style>\n",
              "<table border=\"1\" class=\"dataframe\">\n",
              "  <thead>\n",
              "    <tr style=\"text-align: right;\">\n",
              "      <th></th>\n",
              "      <th>date</th>\n",
              "      <th>price</th>\n",
              "      <th>bedrooms</th>\n",
              "      <th>bathrooms</th>\n",
              "      <th>sqft_living</th>\n",
              "      <th>sqft_lot</th>\n",
              "      <th>floors</th>\n",
              "      <th>waterfront</th>\n",
              "      <th>condition</th>\n",
              "      <th>grade</th>\n",
              "      <th>sqft_above</th>\n",
              "      <th>sqft_basement</th>\n",
              "      <th>yr_built</th>\n",
              "      <th>yr_renovated</th>\n",
              "      <th>sqft_living15</th>\n",
              "      <th>sqft_lot15</th>\n",
              "      <th>neighborhood</th>\n",
              "      <th>city</th>\n",
              "    </tr>\n",
              "  </thead>\n",
              "  <tbody>\n",
              "    <tr>\n",
              "      <th>0</th>\n",
              "      <td>2014-05-27</td>\n",
              "      <td>468000.0</td>\n",
              "      <td>2</td>\n",
              "      <td>1.00</td>\n",
              "      <td>1160</td>\n",
              "      <td>6000</td>\n",
              "      <td>1.0</td>\n",
              "      <td>0</td>\n",
              "      <td>4</td>\n",
              "      <td>7</td>\n",
              "      <td>860</td>\n",
              "      <td>300</td>\n",
              "      <td>1942</td>\n",
              "      <td>0</td>\n",
              "      <td>1330</td>\n",
              "      <td>6000</td>\n",
              "      <td>Wedgwood</td>\n",
              "      <td>Seattle</td>\n",
              "    </tr>\n",
              "    <tr>\n",
              "      <th>1</th>\n",
              "      <td>2014-06-24</td>\n",
              "      <td>438000.0</td>\n",
              "      <td>3</td>\n",
              "      <td>1.75</td>\n",
              "      <td>1520</td>\n",
              "      <td>6380</td>\n",
              "      <td>1.0</td>\n",
              "      <td>0</td>\n",
              "      <td>3</td>\n",
              "      <td>7</td>\n",
              "      <td>790</td>\n",
              "      <td>730</td>\n",
              "      <td>1948</td>\n",
              "      <td>0</td>\n",
              "      <td>1520</td>\n",
              "      <td>6235</td>\n",
              "      <td>Wedgwood</td>\n",
              "      <td>Seattle</td>\n",
              "    </tr>\n",
              "    <tr>\n",
              "      <th>6</th>\n",
              "      <td>2014-05-16</td>\n",
              "      <td>350000.0</td>\n",
              "      <td>1</td>\n",
              "      <td>1.00</td>\n",
              "      <td>700</td>\n",
              "      <td>5100</td>\n",
              "      <td>1.0</td>\n",
              "      <td>0</td>\n",
              "      <td>3</td>\n",
              "      <td>7</td>\n",
              "      <td>700</td>\n",
              "      <td>0</td>\n",
              "      <td>1942</td>\n",
              "      <td>0</td>\n",
              "      <td>1010</td>\n",
              "      <td>5100</td>\n",
              "      <td>Wedgwood</td>\n",
              "      <td>Seattle</td>\n",
              "    </tr>\n",
              "    <tr>\n",
              "      <th>9</th>\n",
              "      <td>2014-08-14</td>\n",
              "      <td>415000.0</td>\n",
              "      <td>2</td>\n",
              "      <td>1.00</td>\n",
              "      <td>1070</td>\n",
              "      <td>4500</td>\n",
              "      <td>1.0</td>\n",
              "      <td>0</td>\n",
              "      <td>3</td>\n",
              "      <td>7</td>\n",
              "      <td>1070</td>\n",
              "      <td>0</td>\n",
              "      <td>1937</td>\n",
              "      <td>0</td>\n",
              "      <td>1320</td>\n",
              "      <td>4465</td>\n",
              "      <td>Wedgwood</td>\n",
              "      <td>Seattle</td>\n",
              "    </tr>\n",
              "    <tr>\n",
              "      <th>11</th>\n",
              "      <td>2014-09-01</td>\n",
              "      <td>438924.0</td>\n",
              "      <td>3</td>\n",
              "      <td>1.50</td>\n",
              "      <td>1050</td>\n",
              "      <td>4590</td>\n",
              "      <td>1.0</td>\n",
              "      <td>0</td>\n",
              "      <td>3</td>\n",
              "      <td>7</td>\n",
              "      <td>850</td>\n",
              "      <td>200</td>\n",
              "      <td>1949</td>\n",
              "      <td>0</td>\n",
              "      <td>1770</td>\n",
              "      <td>5400</td>\n",
              "      <td>Wedgwood</td>\n",
              "      <td>Seattle</td>\n",
              "    </tr>\n",
              "  </tbody>\n",
              "</table>\n",
              "</div>\n",
              "      <button class=\"colab-df-convert\" onclick=\"convertToInteractive('df-124c7bd5-8da6-43f4-b68f-10880abb03ba')\"\n",
              "              title=\"Convert this dataframe to an interactive table.\"\n",
              "              style=\"display:none;\">\n",
              "        \n",
              "  <svg xmlns=\"http://www.w3.org/2000/svg\" height=\"24px\"viewBox=\"0 0 24 24\"\n",
              "       width=\"24px\">\n",
              "    <path d=\"M0 0h24v24H0V0z\" fill=\"none\"/>\n",
              "    <path d=\"M18.56 5.44l.94 2.06.94-2.06 2.06-.94-2.06-.94-.94-2.06-.94 2.06-2.06.94zm-11 1L8.5 8.5l.94-2.06 2.06-.94-2.06-.94L8.5 2.5l-.94 2.06-2.06.94zm10 10l.94 2.06.94-2.06 2.06-.94-2.06-.94-.94-2.06-.94 2.06-2.06.94z\"/><path d=\"M17.41 7.96l-1.37-1.37c-.4-.4-.92-.59-1.43-.59-.52 0-1.04.2-1.43.59L10.3 9.45l-7.72 7.72c-.78.78-.78 2.05 0 2.83L4 21.41c.39.39.9.59 1.41.59.51 0 1.02-.2 1.41-.59l7.78-7.78 2.81-2.81c.8-.78.8-2.07 0-2.86zM5.41 20L4 18.59l7.72-7.72 1.47 1.35L5.41 20z\"/>\n",
              "  </svg>\n",
              "      </button>\n",
              "      \n",
              "  <style>\n",
              "    .colab-df-container {\n",
              "      display:flex;\n",
              "      flex-wrap:wrap;\n",
              "      gap: 12px;\n",
              "    }\n",
              "\n",
              "    .colab-df-convert {\n",
              "      background-color: #E8F0FE;\n",
              "      border: none;\n",
              "      border-radius: 50%;\n",
              "      cursor: pointer;\n",
              "      display: none;\n",
              "      fill: #1967D2;\n",
              "      height: 32px;\n",
              "      padding: 0 0 0 0;\n",
              "      width: 32px;\n",
              "    }\n",
              "\n",
              "    .colab-df-convert:hover {\n",
              "      background-color: #E2EBFA;\n",
              "      box-shadow: 0px 1px 2px rgba(60, 64, 67, 0.3), 0px 1px 3px 1px rgba(60, 64, 67, 0.15);\n",
              "      fill: #174EA6;\n",
              "    }\n",
              "\n",
              "    [theme=dark] .colab-df-convert {\n",
              "      background-color: #3B4455;\n",
              "      fill: #D2E3FC;\n",
              "    }\n",
              "\n",
              "    [theme=dark] .colab-df-convert:hover {\n",
              "      background-color: #434B5C;\n",
              "      box-shadow: 0px 1px 3px 1px rgba(0, 0, 0, 0.15);\n",
              "      filter: drop-shadow(0px 1px 2px rgba(0, 0, 0, 0.3));\n",
              "      fill: #FFFFFF;\n",
              "    }\n",
              "  </style>\n",
              "\n",
              "      <script>\n",
              "        const buttonEl =\n",
              "          document.querySelector('#df-124c7bd5-8da6-43f4-b68f-10880abb03ba button.colab-df-convert');\n",
              "        buttonEl.style.display =\n",
              "          google.colab.kernel.accessAllowed ? 'block' : 'none';\n",
              "\n",
              "        async function convertToInteractive(key) {\n",
              "          const element = document.querySelector('#df-124c7bd5-8da6-43f4-b68f-10880abb03ba');\n",
              "          const dataTable =\n",
              "            await google.colab.kernel.invokeFunction('convertToInteractive',\n",
              "                                                     [key], {});\n",
              "          if (!dataTable) return;\n",
              "\n",
              "          const docLinkHtml = 'Like what you see? Visit the ' +\n",
              "            '<a target=\"_blank\" href=https://colab.research.google.com/notebooks/data_table.ipynb>data table notebook</a>'\n",
              "            + ' to learn more about interactive tables.';\n",
              "          element.innerHTML = '';\n",
              "          dataTable['output_type'] = 'display_data';\n",
              "          await google.colab.output.renderOutput(dataTable, element);\n",
              "          const docLink = document.createElement('div');\n",
              "          docLink.innerHTML = docLinkHtml;\n",
              "          element.appendChild(docLink);\n",
              "        }\n",
              "      </script>\n",
              "    </div>\n",
              "  </div>\n",
              "  "
            ]
          },
          "metadata": {},
          "execution_count": 52
        }
      ]
    },
    {
      "cell_type": "code",
      "source": [
        "df_Whittier_Heights.drop('waterfront', axis=1, inplace=True)"
      ],
      "metadata": {
        "colab": {
          "base_uri": "https://localhost:8080/"
        },
        "id": "mRIaOVerAgzC",
        "outputId": "a6b657a6-2e0e-4e40-fbf8-ccc205bda7f9"
      },
      "execution_count": 57,
      "outputs": [
        {
          "output_type": "stream",
          "name": "stderr",
          "text": [
            "/usr/local/lib/python3.9/dist-packages/pandas/core/frame.py:4906: SettingWithCopyWarning: \n",
            "A value is trying to be set on a copy of a slice from a DataFrame\n",
            "\n",
            "See the caveats in the documentation: https://pandas.pydata.org/pandas-docs/stable/user_guide/indexing.html#returning-a-view-versus-a-copy\n",
            "  \n"
          ]
        }
      ]
    },
    {
      "cell_type": "code",
      "source": [
        "df_Whittier_Heights.head()"
      ],
      "metadata": {
        "colab": {
          "base_uri": "https://localhost:8080/",
          "height": 357
        },
        "id": "GejbcXGs-z42",
        "outputId": "f5d1ad4b-d625-4a2e-c70e-d4b571e325c2"
      },
      "execution_count": 58,
      "outputs": [
        {
          "output_type": "execute_result",
          "data": {
            "text/plain": [
              "         date     price  bedrooms  bathrooms  sqft_living  sqft_lot  floors  \\\n",
              "2  2014-06-24  687500.0         4       1.75         2330      5000     1.5   \n",
              "3  2014-11-10  535000.0         3       1.00         1090      3000     1.5   \n",
              "4  2014-10-27  555000.0         3       2.00         1980      3478     1.5   \n",
              "5  2014-05-23  460000.0         3       1.00         1670      4005     1.5   \n",
              "13 2015-02-25  605000.0         2       1.75         1760      5000     1.0   \n",
              "\n",
              "    condition  grade  sqft_above  sqft_basement  yr_built  yr_renovated  \\\n",
              "2           4      7        1510            820      1929             0   \n",
              "3           4      8        1090              0      1929             0   \n",
              "4           4      7        1440            540      1929             0   \n",
              "5           4      7        1170            500      1939             0   \n",
              "13          4      7         940            820      1927             0   \n",
              "\n",
              "    sqft_living15  sqft_lot15      neighborhood     city  \n",
              "2            1460        5000  Whittier Heights  Seattle  \n",
              "3            1570        5080  Whittier Heights  Seattle  \n",
              "4            1610        3478  Whittier Heights  Seattle  \n",
              "5            1240        4005  Whittier Heights  Seattle  \n",
              "13           1530        5000  Whittier Heights  Seattle  "
            ],
            "text/html": [
              "\n",
              "  <div id=\"df-b3196eb6-f9f3-4541-939d-529ab09b2283\">\n",
              "    <div class=\"colab-df-container\">\n",
              "      <div>\n",
              "<style scoped>\n",
              "    .dataframe tbody tr th:only-of-type {\n",
              "        vertical-align: middle;\n",
              "    }\n",
              "\n",
              "    .dataframe tbody tr th {\n",
              "        vertical-align: top;\n",
              "    }\n",
              "\n",
              "    .dataframe thead th {\n",
              "        text-align: right;\n",
              "    }\n",
              "</style>\n",
              "<table border=\"1\" class=\"dataframe\">\n",
              "  <thead>\n",
              "    <tr style=\"text-align: right;\">\n",
              "      <th></th>\n",
              "      <th>date</th>\n",
              "      <th>price</th>\n",
              "      <th>bedrooms</th>\n",
              "      <th>bathrooms</th>\n",
              "      <th>sqft_living</th>\n",
              "      <th>sqft_lot</th>\n",
              "      <th>floors</th>\n",
              "      <th>condition</th>\n",
              "      <th>grade</th>\n",
              "      <th>sqft_above</th>\n",
              "      <th>sqft_basement</th>\n",
              "      <th>yr_built</th>\n",
              "      <th>yr_renovated</th>\n",
              "      <th>sqft_living15</th>\n",
              "      <th>sqft_lot15</th>\n",
              "      <th>neighborhood</th>\n",
              "      <th>city</th>\n",
              "    </tr>\n",
              "  </thead>\n",
              "  <tbody>\n",
              "    <tr>\n",
              "      <th>2</th>\n",
              "      <td>2014-06-24</td>\n",
              "      <td>687500.0</td>\n",
              "      <td>4</td>\n",
              "      <td>1.75</td>\n",
              "      <td>2330</td>\n",
              "      <td>5000</td>\n",
              "      <td>1.5</td>\n",
              "      <td>4</td>\n",
              "      <td>7</td>\n",
              "      <td>1510</td>\n",
              "      <td>820</td>\n",
              "      <td>1929</td>\n",
              "      <td>0</td>\n",
              "      <td>1460</td>\n",
              "      <td>5000</td>\n",
              "      <td>Whittier Heights</td>\n",
              "      <td>Seattle</td>\n",
              "    </tr>\n",
              "    <tr>\n",
              "      <th>3</th>\n",
              "      <td>2014-11-10</td>\n",
              "      <td>535000.0</td>\n",
              "      <td>3</td>\n",
              "      <td>1.00</td>\n",
              "      <td>1090</td>\n",
              "      <td>3000</td>\n",
              "      <td>1.5</td>\n",
              "      <td>4</td>\n",
              "      <td>8</td>\n",
              "      <td>1090</td>\n",
              "      <td>0</td>\n",
              "      <td>1929</td>\n",
              "      <td>0</td>\n",
              "      <td>1570</td>\n",
              "      <td>5080</td>\n",
              "      <td>Whittier Heights</td>\n",
              "      <td>Seattle</td>\n",
              "    </tr>\n",
              "    <tr>\n",
              "      <th>4</th>\n",
              "      <td>2014-10-27</td>\n",
              "      <td>555000.0</td>\n",
              "      <td>3</td>\n",
              "      <td>2.00</td>\n",
              "      <td>1980</td>\n",
              "      <td>3478</td>\n",
              "      <td>1.5</td>\n",
              "      <td>4</td>\n",
              "      <td>7</td>\n",
              "      <td>1440</td>\n",
              "      <td>540</td>\n",
              "      <td>1929</td>\n",
              "      <td>0</td>\n",
              "      <td>1610</td>\n",
              "      <td>3478</td>\n",
              "      <td>Whittier Heights</td>\n",
              "      <td>Seattle</td>\n",
              "    </tr>\n",
              "    <tr>\n",
              "      <th>5</th>\n",
              "      <td>2014-05-23</td>\n",
              "      <td>460000.0</td>\n",
              "      <td>3</td>\n",
              "      <td>1.00</td>\n",
              "      <td>1670</td>\n",
              "      <td>4005</td>\n",
              "      <td>1.5</td>\n",
              "      <td>4</td>\n",
              "      <td>7</td>\n",
              "      <td>1170</td>\n",
              "      <td>500</td>\n",
              "      <td>1939</td>\n",
              "      <td>0</td>\n",
              "      <td>1240</td>\n",
              "      <td>4005</td>\n",
              "      <td>Whittier Heights</td>\n",
              "      <td>Seattle</td>\n",
              "    </tr>\n",
              "    <tr>\n",
              "      <th>13</th>\n",
              "      <td>2015-02-25</td>\n",
              "      <td>605000.0</td>\n",
              "      <td>2</td>\n",
              "      <td>1.75</td>\n",
              "      <td>1760</td>\n",
              "      <td>5000</td>\n",
              "      <td>1.0</td>\n",
              "      <td>4</td>\n",
              "      <td>7</td>\n",
              "      <td>940</td>\n",
              "      <td>820</td>\n",
              "      <td>1927</td>\n",
              "      <td>0</td>\n",
              "      <td>1530</td>\n",
              "      <td>5000</td>\n",
              "      <td>Whittier Heights</td>\n",
              "      <td>Seattle</td>\n",
              "    </tr>\n",
              "  </tbody>\n",
              "</table>\n",
              "</div>\n",
              "      <button class=\"colab-df-convert\" onclick=\"convertToInteractive('df-b3196eb6-f9f3-4541-939d-529ab09b2283')\"\n",
              "              title=\"Convert this dataframe to an interactive table.\"\n",
              "              style=\"display:none;\">\n",
              "        \n",
              "  <svg xmlns=\"http://www.w3.org/2000/svg\" height=\"24px\"viewBox=\"0 0 24 24\"\n",
              "       width=\"24px\">\n",
              "    <path d=\"M0 0h24v24H0V0z\" fill=\"none\"/>\n",
              "    <path d=\"M18.56 5.44l.94 2.06.94-2.06 2.06-.94-2.06-.94-.94-2.06-.94 2.06-2.06.94zm-11 1L8.5 8.5l.94-2.06 2.06-.94-2.06-.94L8.5 2.5l-.94 2.06-2.06.94zm10 10l.94 2.06.94-2.06 2.06-.94-2.06-.94-.94-2.06-.94 2.06-2.06.94z\"/><path d=\"M17.41 7.96l-1.37-1.37c-.4-.4-.92-.59-1.43-.59-.52 0-1.04.2-1.43.59L10.3 9.45l-7.72 7.72c-.78.78-.78 2.05 0 2.83L4 21.41c.39.39.9.59 1.41.59.51 0 1.02-.2 1.41-.59l7.78-7.78 2.81-2.81c.8-.78.8-2.07 0-2.86zM5.41 20L4 18.59l7.72-7.72 1.47 1.35L5.41 20z\"/>\n",
              "  </svg>\n",
              "      </button>\n",
              "      \n",
              "  <style>\n",
              "    .colab-df-container {\n",
              "      display:flex;\n",
              "      flex-wrap:wrap;\n",
              "      gap: 12px;\n",
              "    }\n",
              "\n",
              "    .colab-df-convert {\n",
              "      background-color: #E8F0FE;\n",
              "      border: none;\n",
              "      border-radius: 50%;\n",
              "      cursor: pointer;\n",
              "      display: none;\n",
              "      fill: #1967D2;\n",
              "      height: 32px;\n",
              "      padding: 0 0 0 0;\n",
              "      width: 32px;\n",
              "    }\n",
              "\n",
              "    .colab-df-convert:hover {\n",
              "      background-color: #E2EBFA;\n",
              "      box-shadow: 0px 1px 2px rgba(60, 64, 67, 0.3), 0px 1px 3px 1px rgba(60, 64, 67, 0.15);\n",
              "      fill: #174EA6;\n",
              "    }\n",
              "\n",
              "    [theme=dark] .colab-df-convert {\n",
              "      background-color: #3B4455;\n",
              "      fill: #D2E3FC;\n",
              "    }\n",
              "\n",
              "    [theme=dark] .colab-df-convert:hover {\n",
              "      background-color: #434B5C;\n",
              "      box-shadow: 0px 1px 3px 1px rgba(0, 0, 0, 0.15);\n",
              "      filter: drop-shadow(0px 1px 2px rgba(0, 0, 0, 0.3));\n",
              "      fill: #FFFFFF;\n",
              "    }\n",
              "  </style>\n",
              "\n",
              "      <script>\n",
              "        const buttonEl =\n",
              "          document.querySelector('#df-b3196eb6-f9f3-4541-939d-529ab09b2283 button.colab-df-convert');\n",
              "        buttonEl.style.display =\n",
              "          google.colab.kernel.accessAllowed ? 'block' : 'none';\n",
              "\n",
              "        async function convertToInteractive(key) {\n",
              "          const element = document.querySelector('#df-b3196eb6-f9f3-4541-939d-529ab09b2283');\n",
              "          const dataTable =\n",
              "            await google.colab.kernel.invokeFunction('convertToInteractive',\n",
              "                                                     [key], {});\n",
              "          if (!dataTable) return;\n",
              "\n",
              "          const docLinkHtml = 'Like what you see? Visit the ' +\n",
              "            '<a target=\"_blank\" href=https://colab.research.google.com/notebooks/data_table.ipynb>data table notebook</a>'\n",
              "            + ' to learn more about interactive tables.';\n",
              "          element.innerHTML = '';\n",
              "          dataTable['output_type'] = 'display_data';\n",
              "          await google.colab.output.renderOutput(dataTable, element);\n",
              "          const docLink = document.createElement('div');\n",
              "          docLink.innerHTML = docLinkHtml;\n",
              "          element.appendChild(docLink);\n",
              "        }\n",
              "      </script>\n",
              "    </div>\n",
              "  </div>\n",
              "  "
            ]
          },
          "metadata": {},
          "execution_count": 58
        }
      ]
    },
    {
      "cell_type": "code",
      "source": [
        "df_Highland_Park.drop('waterfront', axis=1, inplace=True)"
      ],
      "metadata": {
        "colab": {
          "base_uri": "https://localhost:8080/"
        },
        "id": "gfEBxZdJAqLZ",
        "outputId": "d5a8d81d-3301-4b96-9c2a-2d4ea7fdad6f"
      },
      "execution_count": 59,
      "outputs": [
        {
          "output_type": "stream",
          "name": "stderr",
          "text": [
            "/usr/local/lib/python3.9/dist-packages/pandas/core/frame.py:4906: SettingWithCopyWarning: \n",
            "A value is trying to be set on a copy of a slice from a DataFrame\n",
            "\n",
            "See the caveats in the documentation: https://pandas.pydata.org/pandas-docs/stable/user_guide/indexing.html#returning-a-view-versus-a-copy\n",
            "  \n"
          ]
        }
      ]
    },
    {
      "cell_type": "code",
      "source": [
        "df_Highland_Park.head()"
      ],
      "metadata": {
        "colab": {
          "base_uri": "https://localhost:8080/",
          "height": 357
        },
        "id": "05hBB1TA-9jX",
        "outputId": "70fb17d2-10e4-40d5-de7f-fa290b7063a1"
      },
      "execution_count": 60,
      "outputs": [
        {
          "output_type": "execute_result",
          "data": {
            "text/plain": [
              "         date     price  bedrooms  bathrooms  sqft_living  sqft_lot  floors  \\\n",
              "7  2015-02-26  181000.0         2       1.50          720      5120     1.0   \n",
              "8  2014-10-20  385000.0         4       1.75         2360      7620     1.0   \n",
              "10 2014-12-10  345000.0         4       1.00         1550      7620     1.5   \n",
              "12 2015-03-19  259950.0         2       2.00         1070       649     2.0   \n",
              "15 2014-08-11  209000.0         3       2.00         1230      1340     2.0   \n",
              "\n",
              "    condition  grade  sqft_above  sqft_basement  yr_built  yr_renovated  \\\n",
              "7           3      6         720              0      1954             0   \n",
              "8           4      7        1180           1180      1955             0   \n",
              "10          3      7        1550              0      1957             0   \n",
              "12          3      9         720            350      2008             0   \n",
              "15          3      7        1020            210      2003             0   \n",
              "\n",
              "    sqft_living15  sqft_lot15   neighborhood     city  \n",
              "7            1150        2566  Highland Park  Seattle  \n",
              "8            1910        7620  Highland Park  Seattle  \n",
              "10           1450        7620  Highland Park  Seattle  \n",
              "12           1070         928  Highland Park  Seattle  \n",
              "15           1260        1312  Highland Park  Seattle  "
            ],
            "text/html": [
              "\n",
              "  <div id=\"df-4524f8e5-34cd-4ca2-8b21-09a8fdd7ca23\">\n",
              "    <div class=\"colab-df-container\">\n",
              "      <div>\n",
              "<style scoped>\n",
              "    .dataframe tbody tr th:only-of-type {\n",
              "        vertical-align: middle;\n",
              "    }\n",
              "\n",
              "    .dataframe tbody tr th {\n",
              "        vertical-align: top;\n",
              "    }\n",
              "\n",
              "    .dataframe thead th {\n",
              "        text-align: right;\n",
              "    }\n",
              "</style>\n",
              "<table border=\"1\" class=\"dataframe\">\n",
              "  <thead>\n",
              "    <tr style=\"text-align: right;\">\n",
              "      <th></th>\n",
              "      <th>date</th>\n",
              "      <th>price</th>\n",
              "      <th>bedrooms</th>\n",
              "      <th>bathrooms</th>\n",
              "      <th>sqft_living</th>\n",
              "      <th>sqft_lot</th>\n",
              "      <th>floors</th>\n",
              "      <th>condition</th>\n",
              "      <th>grade</th>\n",
              "      <th>sqft_above</th>\n",
              "      <th>sqft_basement</th>\n",
              "      <th>yr_built</th>\n",
              "      <th>yr_renovated</th>\n",
              "      <th>sqft_living15</th>\n",
              "      <th>sqft_lot15</th>\n",
              "      <th>neighborhood</th>\n",
              "      <th>city</th>\n",
              "    </tr>\n",
              "  </thead>\n",
              "  <tbody>\n",
              "    <tr>\n",
              "      <th>7</th>\n",
              "      <td>2015-02-26</td>\n",
              "      <td>181000.0</td>\n",
              "      <td>2</td>\n",
              "      <td>1.50</td>\n",
              "      <td>720</td>\n",
              "      <td>5120</td>\n",
              "      <td>1.0</td>\n",
              "      <td>3</td>\n",
              "      <td>6</td>\n",
              "      <td>720</td>\n",
              "      <td>0</td>\n",
              "      <td>1954</td>\n",
              "      <td>0</td>\n",
              "      <td>1150</td>\n",
              "      <td>2566</td>\n",
              "      <td>Highland Park</td>\n",
              "      <td>Seattle</td>\n",
              "    </tr>\n",
              "    <tr>\n",
              "      <th>8</th>\n",
              "      <td>2014-10-20</td>\n",
              "      <td>385000.0</td>\n",
              "      <td>4</td>\n",
              "      <td>1.75</td>\n",
              "      <td>2360</td>\n",
              "      <td>7620</td>\n",
              "      <td>1.0</td>\n",
              "      <td>4</td>\n",
              "      <td>7</td>\n",
              "      <td>1180</td>\n",
              "      <td>1180</td>\n",
              "      <td>1955</td>\n",
              "      <td>0</td>\n",
              "      <td>1910</td>\n",
              "      <td>7620</td>\n",
              "      <td>Highland Park</td>\n",
              "      <td>Seattle</td>\n",
              "    </tr>\n",
              "    <tr>\n",
              "      <th>10</th>\n",
              "      <td>2014-12-10</td>\n",
              "      <td>345000.0</td>\n",
              "      <td>4</td>\n",
              "      <td>1.00</td>\n",
              "      <td>1550</td>\n",
              "      <td>7620</td>\n",
              "      <td>1.5</td>\n",
              "      <td>3</td>\n",
              "      <td>7</td>\n",
              "      <td>1550</td>\n",
              "      <td>0</td>\n",
              "      <td>1957</td>\n",
              "      <td>0</td>\n",
              "      <td>1450</td>\n",
              "      <td>7620</td>\n",
              "      <td>Highland Park</td>\n",
              "      <td>Seattle</td>\n",
              "    </tr>\n",
              "    <tr>\n",
              "      <th>12</th>\n",
              "      <td>2015-03-19</td>\n",
              "      <td>259950.0</td>\n",
              "      <td>2</td>\n",
              "      <td>2.00</td>\n",
              "      <td>1070</td>\n",
              "      <td>649</td>\n",
              "      <td>2.0</td>\n",
              "      <td>3</td>\n",
              "      <td>9</td>\n",
              "      <td>720</td>\n",
              "      <td>350</td>\n",
              "      <td>2008</td>\n",
              "      <td>0</td>\n",
              "      <td>1070</td>\n",
              "      <td>928</td>\n",
              "      <td>Highland Park</td>\n",
              "      <td>Seattle</td>\n",
              "    </tr>\n",
              "    <tr>\n",
              "      <th>15</th>\n",
              "      <td>2014-08-11</td>\n",
              "      <td>209000.0</td>\n",
              "      <td>3</td>\n",
              "      <td>2.00</td>\n",
              "      <td>1230</td>\n",
              "      <td>1340</td>\n",
              "      <td>2.0</td>\n",
              "      <td>3</td>\n",
              "      <td>7</td>\n",
              "      <td>1020</td>\n",
              "      <td>210</td>\n",
              "      <td>2003</td>\n",
              "      <td>0</td>\n",
              "      <td>1260</td>\n",
              "      <td>1312</td>\n",
              "      <td>Highland Park</td>\n",
              "      <td>Seattle</td>\n",
              "    </tr>\n",
              "  </tbody>\n",
              "</table>\n",
              "</div>\n",
              "      <button class=\"colab-df-convert\" onclick=\"convertToInteractive('df-4524f8e5-34cd-4ca2-8b21-09a8fdd7ca23')\"\n",
              "              title=\"Convert this dataframe to an interactive table.\"\n",
              "              style=\"display:none;\">\n",
              "        \n",
              "  <svg xmlns=\"http://www.w3.org/2000/svg\" height=\"24px\"viewBox=\"0 0 24 24\"\n",
              "       width=\"24px\">\n",
              "    <path d=\"M0 0h24v24H0V0z\" fill=\"none\"/>\n",
              "    <path d=\"M18.56 5.44l.94 2.06.94-2.06 2.06-.94-2.06-.94-.94-2.06-.94 2.06-2.06.94zm-11 1L8.5 8.5l.94-2.06 2.06-.94-2.06-.94L8.5 2.5l-.94 2.06-2.06.94zm10 10l.94 2.06.94-2.06 2.06-.94-2.06-.94-.94-2.06-.94 2.06-2.06.94z\"/><path d=\"M17.41 7.96l-1.37-1.37c-.4-.4-.92-.59-1.43-.59-.52 0-1.04.2-1.43.59L10.3 9.45l-7.72 7.72c-.78.78-.78 2.05 0 2.83L4 21.41c.39.39.9.59 1.41.59.51 0 1.02-.2 1.41-.59l7.78-7.78 2.81-2.81c.8-.78.8-2.07 0-2.86zM5.41 20L4 18.59l7.72-7.72 1.47 1.35L5.41 20z\"/>\n",
              "  </svg>\n",
              "      </button>\n",
              "      \n",
              "  <style>\n",
              "    .colab-df-container {\n",
              "      display:flex;\n",
              "      flex-wrap:wrap;\n",
              "      gap: 12px;\n",
              "    }\n",
              "\n",
              "    .colab-df-convert {\n",
              "      background-color: #E8F0FE;\n",
              "      border: none;\n",
              "      border-radius: 50%;\n",
              "      cursor: pointer;\n",
              "      display: none;\n",
              "      fill: #1967D2;\n",
              "      height: 32px;\n",
              "      padding: 0 0 0 0;\n",
              "      width: 32px;\n",
              "    }\n",
              "\n",
              "    .colab-df-convert:hover {\n",
              "      background-color: #E2EBFA;\n",
              "      box-shadow: 0px 1px 2px rgba(60, 64, 67, 0.3), 0px 1px 3px 1px rgba(60, 64, 67, 0.15);\n",
              "      fill: #174EA6;\n",
              "    }\n",
              "\n",
              "    [theme=dark] .colab-df-convert {\n",
              "      background-color: #3B4455;\n",
              "      fill: #D2E3FC;\n",
              "    }\n",
              "\n",
              "    [theme=dark] .colab-df-convert:hover {\n",
              "      background-color: #434B5C;\n",
              "      box-shadow: 0px 1px 3px 1px rgba(0, 0, 0, 0.15);\n",
              "      filter: drop-shadow(0px 1px 2px rgba(0, 0, 0, 0.3));\n",
              "      fill: #FFFFFF;\n",
              "    }\n",
              "  </style>\n",
              "\n",
              "      <script>\n",
              "        const buttonEl =\n",
              "          document.querySelector('#df-4524f8e5-34cd-4ca2-8b21-09a8fdd7ca23 button.colab-df-convert');\n",
              "        buttonEl.style.display =\n",
              "          google.colab.kernel.accessAllowed ? 'block' : 'none';\n",
              "\n",
              "        async function convertToInteractive(key) {\n",
              "          const element = document.querySelector('#df-4524f8e5-34cd-4ca2-8b21-09a8fdd7ca23');\n",
              "          const dataTable =\n",
              "            await google.colab.kernel.invokeFunction('convertToInteractive',\n",
              "                                                     [key], {});\n",
              "          if (!dataTable) return;\n",
              "\n",
              "          const docLinkHtml = 'Like what you see? Visit the ' +\n",
              "            '<a target=\"_blank\" href=https://colab.research.google.com/notebooks/data_table.ipynb>data table notebook</a>'\n",
              "            + ' to learn more about interactive tables.';\n",
              "          element.innerHTML = '';\n",
              "          dataTable['output_type'] = 'display_data';\n",
              "          await google.colab.output.renderOutput(dataTable, element);\n",
              "          const docLink = document.createElement('div');\n",
              "          docLink.innerHTML = docLinkHtml;\n",
              "          element.appendChild(docLink);\n",
              "        }\n",
              "      </script>\n",
              "    </div>\n",
              "  </div>\n",
              "  "
            ]
          },
          "metadata": {},
          "execution_count": 60
        }
      ]
    },
    {
      "cell_type": "markdown",
      "source": [
        "***\n",
        "## Análise Para Wedgwood\n",
        "***"
      ],
      "metadata": {
        "id": "PWnbkmH6_a1H"
      }
    },
    {
      "cell_type": "code",
      "source": [
        "matrix = df_Wedgwood.corr() \n",
        "fig = plt.figure(figsize = (19, 15))\n",
        "mask = np.triu(np.ones_like(matrix, dtype=bool))\n",
        "sns.heatmap(matrix, vmax = 0.8,mask=mask, square = True, annot = True)\n",
        "plt.show()"
      ],
      "metadata": {
        "colab": {
          "base_uri": "https://localhost:8080/",
          "height": 803
        },
        "id": "jmI1jqdL_Agg",
        "outputId": "d8183981-cf50-490e-be3b-a2ff9d2a9425"
      },
      "execution_count": 62,
      "outputs": [
        {
          "output_type": "display_data",
          "data": {
            "text/plain": [
              "<Figure size 1368x1080 with 2 Axes>"
            ],
            "image/png": "[encoded data removed]"
          },
          "metadata": {
            "needs_background": "light"
          }
        }
      ]
    },
    {
      "cell_type": "code",
      "source": [
        "# A partir da matriz de correlação, percebe-se que os principais fatores que influenciam no preço são:\n",
        "#   Qualidade do material utilizado na obra e no design (grade)\n",
        "#   Área utilizada acima do porão (sqft_above)\n",
        "#   Área útil (sqft_living) "
      ],
      "metadata": {
        "id": "X_LR8BwH_xnJ"
      },
      "execution_count": 63,
      "outputs": []
    },
    {
      "cell_type": "code",
      "source": [
        "df_Wedgwood.columns"
      ],
      "metadata": {
        "colab": {
          "base_uri": "https://localhost:8080/"
        },
        "id": "tGZMd2XgBZit",
        "outputId": "7e82840c-51bd-4cc4-9244-3f99616b5f8b"
      },
      "execution_count": 64,
      "outputs": [
        {
          "output_type": "execute_result",
          "data": {
            "text/plain": [
              "Index(['date', 'price', 'bedrooms', 'bathrooms', 'sqft_living', 'sqft_lot',\n",
              "       'floors', 'condition', 'grade', 'sqft_above', 'sqft_basement',\n",
              "       'yr_built', 'yr_renovated', 'sqft_living15', 'sqft_lot15',\n",
              "       'neighborhood', 'city'],\n",
              "      dtype='object')"
            ]
          },
          "metadata": {},
          "execution_count": 64
        }
      ]
    },
    {
      "cell_type": "code",
      "source": [
        "dist_columns = ['bedrooms', 'bathrooms', 'sqft_living', 'sqft_lot',\n",
        "       'floors', 'condition', 'grade', 'sqft_above', 'sqft_basement',\n",
        "       'yr_built', 'yr_renovated', 'sqft_living15', 'sqft_lot15']"
      ],
      "metadata": {
        "id": "xiyOUQCBB3ld"
      },
      "execution_count": 68,
      "outputs": []
    },
    {
      "cell_type": "code",
      "source": [
        "df_Wedgwood[dist_columns].hist(figsize=(17, 12), bins=11)"
      ],
      "metadata": {
        "colab": {
          "base_uri": "https://localhost:8080/",
          "height": 890
        },
        "id": "O7ZEGge3B-qt",
        "outputId": "bdbbedb2-792f-4c47-9690-a38cb0ea8b75"
      },
      "execution_count": 69,
      "outputs": [
        {
          "output_type": "execute_result",
          "data": {
            "text/plain": [
              "array([[<AxesSubplot:title={'center':'bedrooms'}>,\n",
              "        <AxesSubplot:title={'center':'bathrooms'}>,\n",
              "        <AxesSubplot:title={'center':'sqft_living'}>,\n",
              "        <AxesSubplot:title={'center':'sqft_lot'}>],\n",
              "       [<AxesSubplot:title={'center':'floors'}>,\n",
              "        <AxesSubplot:title={'center':'condition'}>,\n",
              "        <AxesSubplot:title={'center':'grade'}>,\n",
              "        <AxesSubplot:title={'center':'sqft_above'}>],\n",
              "       [<AxesSubplot:title={'center':'sqft_basement'}>,\n",
              "        <AxesSubplot:title={'center':'yr_built'}>,\n",
              "        <AxesSubplot:title={'center':'yr_renovated'}>,\n",
              "        <AxesSubplot:title={'center':'sqft_living15'}>],\n",
              "       [<AxesSubplot:title={'center':'sqft_lot15'}>, <AxesSubplot:>,\n",
              "        <AxesSubplot:>, <AxesSubplot:>]], dtype=object)"
            ]
          },
          "metadata": {},
          "execution_count": 69
        },
        {
          "output_type": "display_data",
          "data": {
            "text/plain": [
              "<Figure size 1224x864 with 16 Axes>"
            ],
            "image/png": "[encoded data removed]"
          },
          "metadata": {
            "needs_background": "light"
          }
        }
      ]
    },
    {
      "cell_type": "code",
      "source": [
        "# As vendas, de modo geral, possuem: \n",
        "#     - de 2 a 4 quartos\n",
        "#     - de 1 a 2,5 banheiros\n",
        "#     - Até 2 andares\n",
        "#     - condição 3\n",
        "#     - qualidade da construção de 7 \n",
        "#     - Área útil de até 2500 ft²"
      ],
      "metadata": {
        "id": "K5zccC2fCE_d"
      },
      "execution_count": null,
      "outputs": []
    },
    {
      "cell_type": "code",
      "source": [
        "grupo_quartos = df_Wedgwood.groupby('bedrooms').mean()\n",
        "grupo_quartos.reset_index(inplace=True)\n",
        "grupo_quartos"
      ],
      "metadata": {
        "colab": {
          "base_uri": "https://localhost:8080/",
          "height": 302
        },
        "id": "mJ93wzupEBE-",
        "outputId": "32987c2d-958e-4aaa-bc5f-dfab3983d5a6"
      },
      "execution_count": 73,
      "outputs": [
        {
          "output_type": "execute_result",
          "data": {
            "text/plain": [
              "   bedrooms          price  bathrooms  sqft_living      sqft_lot    floors  \\\n",
              "0         1  363500.000000   1.000000   825.000000   7842.500000  1.250000   \n",
              "1         2  432407.407407   1.240741  1141.111111   5623.148148  1.074074   \n",
              "2         3  531914.333333   1.708333  1618.555556   6112.648148  1.259259   \n",
              "3         4  635562.195122   2.134146  2119.414634   6258.951220  1.365854   \n",
              "4         5  768350.000000   2.687500  2596.250000   9025.125000  1.500000   \n",
              "5         6  779000.000000   2.500000  3250.000000  12000.000000  1.000000   \n",
              "\n",
              "   condition     grade   sqft_above  sqft_basement     yr_built  yr_renovated  \\\n",
              "0   3.000000  6.500000   825.000000       0.000000  1935.500000      0.000000   \n",
              "1   3.185185  6.777778   988.518519     152.592593  1942.814815    221.333333   \n",
              "2   3.370370  7.185185  1225.592593     392.962963  1952.092593     73.333333   \n",
              "3   3.414634  7.414634  1597.658537     521.756098  1959.219512      0.000000   \n",
              "4   3.750000  7.875000  1758.750000     837.500000  1962.625000    502.625000   \n",
              "5   3.000000  8.000000  1800.000000    1450.000000  1966.000000      0.000000   \n",
              "\n",
              "   sqft_living15    sqft_lot15  \n",
              "0    1205.000000   6078.000000  \n",
              "1    1397.037037   5516.407407  \n",
              "2    1576.796296   5902.185185  \n",
              "3    1752.195122   6116.341463  \n",
              "4    1958.750000   7219.750000  \n",
              "5    3490.000000  10320.000000  "
            ],
            "text/html": [
              "\n",
              "  <div id=\"df-897582d1-41f4-4f5b-92bb-90a3dc002ee9\">\n",
              "    <div class=\"colab-df-container\">\n",
              "      <div>\n",
              "<style scoped>\n",
              "    .dataframe tbody tr th:only-of-type {\n",
              "        vertical-align: middle;\n",
              "    }\n",
              "\n",
              "    .dataframe tbody tr th {\n",
              "        vertical-align: top;\n",
              "    }\n",
              "\n",
              "    .dataframe thead th {\n",
              "        text-align: right;\n",
              "    }\n",
              "</style>\n",
              "<table border=\"1\" class=\"dataframe\">\n",
              "  <thead>\n",
              "    <tr style=\"text-align: right;\">\n",
              "      <th></th>\n",
              "      <th>bedrooms</th>\n",
              "      <th>price</th>\n",
              "      <th>bathrooms</th>\n",
              "      <th>sqft_living</th>\n",
              "      <th>sqft_lot</th>\n",
              "      <th>floors</th>\n",
              "      <th>condition</th>\n",
              "      <th>grade</th>\n",
              "      <th>sqft_above</th>\n",
              "      <th>sqft_basement</th>\n",
              "      <th>yr_built</th>\n",
              "      <th>yr_renovated</th>\n",
              "      <th>sqft_living15</th>\n",
              "      <th>sqft_lot15</th>\n",
              "    </tr>\n",
              "  </thead>\n",
              "  <tbody>\n",
              "    <tr>\n",
              "      <th>0</th>\n",
              "      <td>1</td>\n",
              "      <td>363500.000000</td>\n",
              "      <td>1.000000</td>\n",
              "      <td>825.000000</td>\n",
              "      <td>7842.500000</td>\n",
              "      <td>1.250000</td>\n",
              "      <td>3.000000</td>\n",
              "      <td>6.500000</td>\n",
              "      <td>825.000000</td>\n",
              "      <td>0.000000</td>\n",
              "      <td>1935.500000</td>\n",
              "      <td>0.000000</td>\n",
              "      <td>1205.000000</td>\n",
              "      <td>6078.000000</td>\n",
              "    </tr>\n",
              "    <tr>\n",
              "      <th>1</th>\n",
              "      <td>2</td>\n",
              "      <td>432407.407407</td>\n",
              "      <td>1.240741</td>\n",
              "      <td>1141.111111</td>\n",
              "      <td>5623.148148</td>\n",
              "      <td>1.074074</td>\n",
              "      <td>3.185185</td>\n",
              "      <td>6.777778</td>\n",
              "      <td>988.518519</td>\n",
              "      <td>152.592593</td>\n",
              "      <td>1942.814815</td>\n",
              "      <td>221.333333</td>\n",
              "      <td>1397.037037</td>\n",
              "      <td>5516.407407</td>\n",
              "    </tr>\n",
              "    <tr>\n",
              "      <th>2</th>\n",
              "      <td>3</td>\n",
              "      <td>531914.333333</td>\n",
              "      <td>1.708333</td>\n",
              "      <td>1618.555556</td>\n",
              "      <td>6112.648148</td>\n",
              "      <td>1.259259</td>\n",
              "      <td>3.370370</td>\n",
              "      <td>7.185185</td>\n",
              "      <td>1225.592593</td>\n",
              "      <td>392.962963</td>\n",
              "      <td>1952.092593</td>\n",
              "      <td>73.333333</td>\n",
              "      <td>1576.796296</td>\n",
              "      <td>5902.185185</td>\n",
              "    </tr>\n",
              "    <tr>\n",
              "      <th>3</th>\n",
              "      <td>4</td>\n",
              "      <td>635562.195122</td>\n",
              "      <td>2.134146</td>\n",
              "      <td>2119.414634</td>\n",
              "      <td>6258.951220</td>\n",
              "      <td>1.365854</td>\n",
              "      <td>3.414634</td>\n",
              "      <td>7.414634</td>\n",
              "      <td>1597.658537</td>\n",
              "      <td>521.756098</td>\n",
              "      <td>1959.219512</td>\n",
              "      <td>0.000000</td>\n",
              "      <td>1752.195122</td>\n",
              "      <td>6116.341463</td>\n",
              "    </tr>\n",
              "    <tr>\n",
              "      <th>4</th>\n",
              "      <td>5</td>\n",
              "      <td>768350.000000</td>\n",
              "      <td>2.687500</td>\n",
              "      <td>2596.250000</td>\n",
              "      <td>9025.125000</td>\n",
              "      <td>1.500000</td>\n",
              "      <td>3.750000</td>\n",
              "      <td>7.875000</td>\n",
              "      <td>1758.750000</td>\n",
              "      <td>837.500000</td>\n",
              "      <td>1962.625000</td>\n",
              "      <td>502.625000</td>\n",
              "      <td>1958.750000</td>\n",
              "      <td>7219.750000</td>\n",
              "    </tr>\n",
              "    <tr>\n",
              "      <th>5</th>\n",
              "      <td>6</td>\n",
              "      <td>779000.000000</td>\n",
              "      <td>2.500000</td>\n",
              "      <td>3250.000000</td>\n",
              "      <td>12000.000000</td>\n",
              "      <td>1.000000</td>\n",
              "      <td>3.000000</td>\n",
              "      <td>8.000000</td>\n",
              "      <td>1800.000000</td>\n",
              "      <td>1450.000000</td>\n",
              "      <td>1966.000000</td>\n",
              "      <td>0.000000</td>\n",
              "      <td>3490.000000</td>\n",
              "      <td>10320.000000</td>\n",
              "    </tr>\n",
              "  </tbody>\n",
              "</table>\n",
              "</div>\n",
              "      <button class=\"colab-df-convert\" onclick=\"convertToInteractive('df-897582d1-41f4-4f5b-92bb-90a3dc002ee9')\"\n",
              "              title=\"Convert this dataframe to an interactive table.\"\n",
              "              style=\"display:none;\">\n",
              "        \n",
              "  <svg xmlns=\"http://www.w3.org/2000/svg\" height=\"24px\"viewBox=\"0 0 24 24\"\n",
              "       width=\"24px\">\n",
              "    <path d=\"M0 0h24v24H0V0z\" fill=\"none\"/>\n",
              "    <path d=\"M18.56 5.44l.94 2.06.94-2.06 2.06-.94-2.06-.94-.94-2.06-.94 2.06-2.06.94zm-11 1L8.5 8.5l.94-2.06 2.06-.94-2.06-.94L8.5 2.5l-.94 2.06-2.06.94zm10 10l.94 2.06.94-2.06 2.06-.94-2.06-.94-.94-2.06-.94 2.06-2.06.94z\"/><path d=\"M17.41 7.96l-1.37-1.37c-.4-.4-.92-.59-1.43-.59-.52 0-1.04.2-1.43.59L10.3 9.45l-7.72 7.72c-.78.78-.78 2.05 0 2.83L4 21.41c.39.39.9.59 1.41.59.51 0 1.02-.2 1.41-.59l7.78-7.78 2.81-2.81c.8-.78.8-2.07 0-2.86zM5.41 20L4 18.59l7.72-7.72 1.47 1.35L5.41 20z\"/>\n",
              "  </svg>\n",
              "      </button>\n",
              "      \n",
              "  <style>\n",
              "    .colab-df-container {\n",
              "      display:flex;\n",
              "      flex-wrap:wrap;\n",
              "      gap: 12px;\n",
              "    }\n",
              "\n",
              "    .colab-df-convert {\n",
              "      background-color: #E8F0FE;\n",
              "      border: none;\n",
              "      border-radius: 50%;\n",
              "      cursor: pointer;\n",
              "      display: none;\n",
              "      fill: #1967D2;\n",
              "      height: 32px;\n",
              "      padding: 0 0 0 0;\n",
              "      width: 32px;\n",
              "    }\n",
              "\n",
              "    .colab-df-convert:hover {\n",
              "      background-color: #E2EBFA;\n",
              "      box-shadow: 0px 1px 2px rgba(60, 64, 67, 0.3), 0px 1px 3px 1px rgba(60, 64, 67, 0.15);\n",
              "      fill: #174EA6;\n",
              "    }\n",
              "\n",
              "    [theme=dark] .colab-df-convert {\n",
              "      background-color: #3B4455;\n",
              "      fill: #D2E3FC;\n",
              "    }\n",
              "\n",
              "    [theme=dark] .colab-df-convert:hover {\n",
              "      background-color: #434B5C;\n",
              "      box-shadow: 0px 1px 3px 1px rgba(0, 0, 0, 0.15);\n",
              "      filter: drop-shadow(0px 1px 2px rgba(0, 0, 0, 0.3));\n",
              "      fill: #FFFFFF;\n",
              "    }\n",
              "  </style>\n",
              "\n",
              "      <script>\n",
              "        const buttonEl =\n",
              "          document.querySelector('#df-897582d1-41f4-4f5b-92bb-90a3dc002ee9 button.colab-df-convert');\n",
              "        buttonEl.style.display =\n",
              "          google.colab.kernel.accessAllowed ? 'block' : 'none';\n",
              "\n",
              "        async function convertToInteractive(key) {\n",
              "          const element = document.querySelector('#df-897582d1-41f4-4f5b-92bb-90a3dc002ee9');\n",
              "          const dataTable =\n",
              "            await google.colab.kernel.invokeFunction('convertToInteractive',\n",
              "                                                     [key], {});\n",
              "          if (!dataTable) return;\n",
              "\n",
              "          const docLinkHtml = 'Like what you see? Visit the ' +\n",
              "            '<a target=\"_blank\" href=https://colab.research.google.com/notebooks/data_table.ipynb>data table notebook</a>'\n",
              "            + ' to learn more about interactive tables.';\n",
              "          element.innerHTML = '';\n",
              "          dataTable['output_type'] = 'display_data';\n",
              "          await google.colab.output.renderOutput(dataTable, element);\n",
              "          const docLink = document.createElement('div');\n",
              "          docLink.innerHTML = docLinkHtml;\n",
              "          element.appendChild(docLink);\n",
              "        }\n",
              "      </script>\n",
              "    </div>\n",
              "  </div>\n",
              "  "
            ]
          },
          "metadata": {},
          "execution_count": 73
        }
      ]
    },
    {
      "cell_type": "code",
      "source": [
        "ax = grupo_quartos.plot(kind='line', x ='bedrooms', y='price', figsize=(10, 6))\n",
        "\n",
        "ax.yaxis.set_major_formatter(ticker.FuncFormatter(lambda x, pos: '{:,.0f}'.format(x).replace(',', '.')))\n",
        "ax.set_title('Valor do imóvel x Quantidade de quartos')\n",
        "\n",
        "yticks = range(350000, 800000, 25000)\n",
        "xticks= range(1, 11, 1)\n",
        "ax.set_yticks(yticks)\n",
        "ax.set_xticks(xticks)\n",
        "\n",
        "ax.grid(True, linestyle='-', linewidth=0.5, color='gray')"
      ],
      "metadata": {
        "colab": {
          "base_uri": "https://localhost:8080/",
          "height": 404
        },
        "id": "j-uhx3_IEBr_",
        "outputId": "ad5fabf6-1fee-4368-8ba3-85a6682915a9"
      },
      "execution_count": 79,
      "outputs": [
        {
          "output_type": "display_data",
          "data": {
            "text/plain": [
              "<Figure size 720x432 with 1 Axes>"
            ],
            "image/png": "[encoded data removed]"
          },
          "metadata": {
            "needs_background": "light"
          }
        }
      ]
    },
    {
      "cell_type": "code",
      "source": [
        "# variação % de preço para o aumento de 1 quarto para 2\n",
        "(grupo_quartos.price.pct_change()[1] * 100).round(2) "
      ],
      "metadata": {
        "colab": {
          "base_uri": "https://localhost:8080/"
        },
        "id": "Fmo96DsDEFev",
        "outputId": "ee6690df-77f1-42bf-eabe-2b82fe714808"
      },
      "execution_count": 80,
      "outputs": [
        {
          "output_type": "execute_result",
          "data": {
            "text/plain": [
              "18.96"
            ]
          },
          "metadata": {},
          "execution_count": 80
        }
      ]
    },
    {
      "cell_type": "code",
      "source": [
        "# variação % de preço para o aumento de 2 quarto para 3\n",
        "(grupo_quartos.price.pct_change()[2] * 100).round(2)"
      ],
      "metadata": {
        "colab": {
          "base_uri": "https://localhost:8080/"
        },
        "id": "ld2fOHjGGnza",
        "outputId": "60bcd4b7-db5c-41f2-be97-5d067780acfa"
      },
      "execution_count": 81,
      "outputs": [
        {
          "output_type": "execute_result",
          "data": {
            "text/plain": [
              "23.01"
            ]
          },
          "metadata": {},
          "execution_count": 81
        }
      ]
    },
    {
      "cell_type": "code",
      "source": [
        "# variação % de preço para o aumento de 3 quarto para 4\n",
        "(grupo_quartos.price.pct_change()[3] * 100).round(2)"
      ],
      "metadata": {
        "colab": {
          "base_uri": "https://localhost:8080/"
        },
        "id": "CItBSNo0GtYC",
        "outputId": "5bc99ea8-01ef-4946-aa98-60d25e8cf446"
      },
      "execution_count": 82,
      "outputs": [
        {
          "output_type": "execute_result",
          "data": {
            "text/plain": [
              "19.49"
            ]
          },
          "metadata": {},
          "execution_count": 82
        }
      ]
    },
    {
      "cell_type": "code",
      "source": [
        "# variação % de preço para o aumento de 1 quarto para 3\n",
        "(grupo_quartos.price.pct_change(periods=2)[2] * 100).round(2)"
      ],
      "metadata": {
        "colab": {
          "base_uri": "https://localhost:8080/"
        },
        "id": "gl619JSLGzIi",
        "outputId": "ebd2b8e5-3ac1-4032-eee6-511d288a3f73"
      },
      "execution_count": 83,
      "outputs": [
        {
          "output_type": "execute_result",
          "data": {
            "text/plain": [
              "46.33"
            ]
          },
          "metadata": {},
          "execution_count": 83
        }
      ]
    },
    {
      "cell_type": "code",
      "source": [
        "# variação % de preço para o aumento de 2 quarto para 4\n",
        "(grupo_quartos.price.pct_change(periods=2)[3] * 100).round(2)"
      ],
      "metadata": {
        "colab": {
          "base_uri": "https://localhost:8080/"
        },
        "id": "fDbpDyN7G7Gz",
        "outputId": "bb99e1ed-6519-4fa4-8195-97fb7e23f7cf"
      },
      "execution_count": 84,
      "outputs": [
        {
          "output_type": "execute_result",
          "data": {
            "text/plain": [
              "46.98"
            ]
          },
          "metadata": {},
          "execution_count": 84
        }
      ]
    },
    {
      "cell_type": "code",
      "source": [
        "grupo_banheiros = df_Wedgwood.groupby('bathrooms').mean()\n",
        "grupo_banheiros.reset_index(inplace=True)"
      ],
      "metadata": {
        "id": "eSOURx3_G_yT"
      },
      "execution_count": 88,
      "outputs": []
    },
    {
      "cell_type": "code",
      "source": [
        "ax = grupo_banheiros.plot(kind='line', x ='bathrooms', y='price', figsize=(12, 8))\n",
        "ax.yaxis.set_major_formatter(ticker.FuncFormatter(lambda x, pos: '{:,.0f}'.format(x).replace(',', '.')))\n",
        "ax.set_title('Valor do imóvel x Quantidade de banheiros')\n",
        "yticks = range(425000, 900000, 25000)\n",
        "xticks= range(1, 9, 1)\n",
        "ax.set_yticks(yticks)\n",
        "ax.set_xticks(xticks)\n",
        "ax.grid(True, linestyle='-', linewidth=0.5, color='gray')"
      ],
      "metadata": {
        "colab": {
          "base_uri": "https://localhost:8080/",
          "height": 513
        },
        "id": "12L1IKjsIwBn",
        "outputId": "c0a8e9e7-a5a3-4acb-c1b1-25672f95c709"
      },
      "execution_count": 93,
      "outputs": [
        {
          "output_type": "display_data",
          "data": {
            "text/plain": [
              "<Figure size 864x576 with 1 Axes>"
            ],
            "image/png": "[encoded data removed]"
          },
          "metadata": {
            "needs_background": "light"
          }
        }
      ]
    },
    {
      "cell_type": "code",
      "source": [
        "# variação % de preço para o aumento de 1 banheiro para 2\n",
        "(grupo_banheiros.price.pct_change()[1] * 100).round(2)"
      ],
      "metadata": {
        "colab": {
          "base_uri": "https://localhost:8080/"
        },
        "id": "IEc2FSG1IwqN",
        "outputId": "633888ab-8896-412c-97d4-1e262fc0d91e"
      },
      "execution_count": 94,
      "outputs": [
        {
          "output_type": "execute_result",
          "data": {
            "text/plain": [
              "11.46"
            ]
          },
          "metadata": {},
          "execution_count": 94
        }
      ]
    },
    {
      "cell_type": "code",
      "source": [
        "x_ponto_0 = 2\n",
        "y_ponto_0 = np.interp(x_ponto_0, grupo_banheiros['bathrooms'], grupo_banheiros['price'])\n",
        "y_ponto_0"
      ],
      "metadata": {
        "colab": {
          "base_uri": "https://localhost:8080/"
        },
        "id": "t4BytUeDKg0I",
        "outputId": "625de94d-c6e0-46e8-dca0-0c1f48a6e5b3"
      },
      "execution_count": 99,
      "outputs": [
        {
          "output_type": "execute_result",
          "data": {
            "text/plain": [
              "556548.125"
            ]
          },
          "metadata": {},
          "execution_count": 99
        }
      ]
    },
    {
      "cell_type": "code",
      "source": [
        "x_ponto = 2.5\n",
        "y_ponto = np.interp(x_ponto, grupo_banheiros['bathrooms'], grupo_banheiros['price'])\n",
        "y_ponto"
      ],
      "metadata": {
        "colab": {
          "base_uri": "https://localhost:8080/"
        },
        "id": "-yvUthbpJptY",
        "outputId": "66c6e8da-a35d-49b6-c7e1-839c47e531c6"
      },
      "execution_count": 98,
      "outputs": [
        {
          "output_type": "execute_result",
          "data": {
            "text/plain": [
              "686800.0"
            ]
          },
          "metadata": {},
          "execution_count": 98
        }
      ]
    },
    {
      "cell_type": "code",
      "source": [
        "# variação % de preço para o aumento de 2 banheiro para 2.5\n",
        "var_percent = (x_ponto - x_ponto_0) * 100 / x_ponto_0\n",
        "var_percent"
      ],
      "metadata": {
        "colab": {
          "base_uri": "https://localhost:8080/"
        },
        "id": "9hmvKeVdMeAS",
        "outputId": "3861b436-6f3a-478d-b098-7160684f068b"
      },
      "execution_count": 100,
      "outputs": [
        {
          "output_type": "execute_result",
          "data": {
            "text/plain": [
              "25.0"
            ]
          },
          "metadata": {},
          "execution_count": 100
        }
      ]
    },
    {
      "cell_type": "code",
      "source": [
        "grupo_andares = df_Wedgwood.groupby('floors').mean()\n",
        "grupo_andares.reset_index(inplace=True)"
      ],
      "metadata": {
        "id": "pgZ8OC5dNvVF"
      },
      "execution_count": 102,
      "outputs": []
    },
    {
      "cell_type": "code",
      "source": [
        "ax = grupo_andares.plot(kind='line', x ='floors', y='price', figsize=(8, 6))\n",
        "ax.yaxis.set_major_formatter(ticker.FuncFormatter(lambda x, pos: '{:,.0f}'.format(x).replace(',', '.')))\n",
        "ax.set_title('Valor do imóvel x Andares')\n",
        "yticks = range(400000, 950000, 50000)\n",
        "xticks= range(1, 5, 1)\n",
        "ax.set_yticks(yticks)\n",
        "ax.set_xticks(xticks)\n",
        "ax.grid(True, linestyle='-', linewidth=0.5, color='gray')"
      ],
      "metadata": {
        "colab": {
          "base_uri": "https://localhost:8080/",
          "height": 404
        },
        "id": "gpbHqeg_OMAy",
        "outputId": "6fa11ffc-12ad-4bb2-8968-7faa40440fe7"
      },
      "execution_count": 104,
      "outputs": [
        {
          "output_type": "display_data",
          "data": {
            "text/plain": [
              "<Figure size 576x432 with 1 Axes>"
            ],
            "image/png": "[encoded data removed]"
          },
          "metadata": {
            "needs_background": "light"
          }
        }
      ]
    },
    {
      "cell_type": "code",
      "source": [
        "# variação % de preço para o aumento de 1 andar para 2\n",
        "(grupo_andares.price.pct_change()[1] * 100).round(2)"
      ],
      "metadata": {
        "colab": {
          "base_uri": "https://localhost:8080/"
        },
        "id": "pR1AVXbFORqH",
        "outputId": "fdcbcd25-2750-4931-99f9-1ec1f2916fdf"
      },
      "execution_count": 105,
      "outputs": [
        {
          "output_type": "execute_result",
          "data": {
            "text/plain": [
              "7.73"
            ]
          },
          "metadata": {},
          "execution_count": 105
        }
      ]
    },
    {
      "cell_type": "code",
      "source": [
        "grupo_condicao = df_Wedgwood.groupby('condition').mean()\n",
        "grupo_condicao.reset_index(inplace=True)"
      ],
      "metadata": {
        "id": "TT0t-wheOt03"
      },
      "execution_count": 106,
      "outputs": []
    },
    {
      "cell_type": "code",
      "source": [
        "ax = grupo_condicao.plot(kind='line', x ='condition', y='price', figsize=(8, 6))\n",
        "ax.yaxis.set_major_formatter(ticker.FuncFormatter(lambda x, pos: '{:,.0f}'.format(x).replace(',', '.')))\n",
        "ax.set_title('Valor do imóvel x Condições')\n",
        "yticks = range(475000, 700000, 25000)\n",
        "xticks= range(1, 6, 1)\n",
        "ax.set_yticks(yticks)\n",
        "ax.set_xticks(xticks)\n",
        "ax.grid(True, linestyle='-', linewidth=0.5, color='gray')"
      ],
      "metadata": {
        "colab": {
          "base_uri": "https://localhost:8080/",
          "height": 404
        },
        "id": "yiYxitzWPCt_",
        "outputId": "4923b792-a622-4204-d6c9-de18c136bffe"
      },
      "execution_count": 108,
      "outputs": [
        {
          "output_type": "display_data",
          "data": {
            "text/plain": [
              "<Figure size 576x432 with 1 Axes>"
            ],
            "image/png": "[encoded data removed]"
          },
          "metadata": {
            "needs_background": "light"
          }
        }
      ]
    },
    {
      "cell_type": "code",
      "source": [
        "# variação % de preço para uma reforma de condições\n",
        "(grupo_andares.price.pct_change()[2] * 100).round(2)"
      ],
      "metadata": {
        "colab": {
          "base_uri": "https://localhost:8080/"
        },
        "id": "vlfsThnwPGsm",
        "outputId": "7a3666c5-83fa-4ae4-bf42-fb2d8ee2aefe"
      },
      "execution_count": 109,
      "outputs": [
        {
          "output_type": "execute_result",
          "data": {
            "text/plain": [
              "27.36"
            ]
          },
          "metadata": {},
          "execution_count": 109
        }
      ]
    },
    {
      "cell_type": "code",
      "source": [
        "# variação % de preço para uma reforma de condições\n",
        "(grupo_andares.price.pct_change(periods=2)[3] * 100).round(2)"
      ],
      "metadata": {
        "colab": {
          "base_uri": "https://localhost:8080/"
        },
        "id": "dH__PpIiPfEP",
        "outputId": "cbeb00d2-011c-490d-86a7-0a10b3f58cd0"
      },
      "execution_count": 110,
      "outputs": [
        {
          "output_type": "execute_result",
          "data": {
            "text/plain": [
              "66.5"
            ]
          },
          "metadata": {},
          "execution_count": 110
        }
      ]
    },
    {
      "cell_type": "code",
      "source": [
        "grupo_material = df_Wedgwood.groupby('grade').mean()\n",
        "grupo_material.reset_index(inplace=True)"
      ],
      "metadata": {
        "id": "VFYlhM3FPmK3"
      },
      "execution_count": 111,
      "outputs": []
    },
    {
      "cell_type": "code",
      "source": [
        "ax = grupo_material.plot(kind='line', x ='grade', y='price', figsize=(12, 8))\n",
        "ax.yaxis.set_major_formatter(ticker.FuncFormatter(lambda x, pos: '{:,.0f}'.format(x).replace(',', '.')))\n",
        "ax.set_title('Valor do imóvel x Qualidade dos materiais')\n",
        "yticks = range(275000, 1050000, 25000)\n",
        "xticks= range(1, 14, 1)\n",
        "ax.set_yticks(yticks)\n",
        "ax.set_xticks(xticks)\n",
        "ax.grid(True, linestyle='-', linewidth=0.5, color='gray')"
      ],
      "metadata": {
        "colab": {
          "base_uri": "https://localhost:8080/",
          "height": 513
        },
        "id": "mJ0GFFyFUt8n",
        "outputId": "1d3e56bc-af7a-47f1-936b-5a18c0e05873"
      },
      "execution_count": 113,
      "outputs": [
        {
          "output_type": "display_data",
          "data": {
            "text/plain": [
              "<Figure size 864x576 with 1 Axes>"
            ],
            "image/png": "[encoded data removed]"
          },
          "metadata": {
            "needs_background": "light"
          }
        }
      ]
    },
    {
      "cell_type": "code",
      "source": [
        "# variação % de preço para qualidade dos materiais de 5 para 7\n",
        "(grupo_material.price.pct_change(periods=2)[2] * 100).round(2)"
      ],
      "metadata": {
        "colab": {
          "base_uri": "https://localhost:8080/"
        },
        "id": "P5-bxYDXUvlv",
        "outputId": "9eac9c86-3385-4baa-b183-ff12b2e45d22"
      },
      "execution_count": 115,
      "outputs": [
        {
          "output_type": "execute_result",
          "data": {
            "text/plain": [
              "83.06"
            ]
          },
          "metadata": {},
          "execution_count": 115
        }
      ]
    },
    {
      "cell_type": "code",
      "source": [
        "# variação % de preço para qualidade dos materiais de 6 para 7\n",
        "(grupo_material.price.pct_change()[2] * 100).round(2)"
      ],
      "metadata": {
        "colab": {
          "base_uri": "https://localhost:8080/"
        },
        "id": "7eb1M8IYWNxZ",
        "outputId": "5d629413-1806-4f6c-b37a-53110b0ab04f"
      },
      "execution_count": 117,
      "outputs": [
        {
          "output_type": "execute_result",
          "data": {
            "text/plain": [
              "34.66"
            ]
          },
          "metadata": {},
          "execution_count": 117
        }
      ]
    },
    {
      "cell_type": "markdown",
      "source": [
        "####A partir desta análise, podemos notar que, no bairro WedgWood o ideal para vender seria imóveis que possuem de 2 a 4 quartos, de 1 banheiros até 2.5, até 2 andares, com condição 3 e qualidade da construção de 7, deste modo, os imóveis chamariam mais atenção e facilitariam as vendas.Para otimizar os lucros, o ideal seria realizar algumas reformas nos imóveis, sendo elas:\n",
        "\n",
        "\n",
        "*   Com uma casa de 1 quartos, construir mais 1 ou dois poderiam valorizar o imóvel entre 18% e 46%;\n",
        "*   Imóvel com 2 quartos, construir mais 1 ou 2 iria aumentar o valor em 19% a 23%;\n",
        "\n",
        "*   A construção de um banheiro com toilet e pia numa casa com 2 banheiros poderia valorizá-la em 25%\n",
        "* A construção de mais um andar em um imóvel de um único andar, iria valorizar em quse 8%;\n",
        "\n",
        "*   Uma reforma elevando os níveis de condições para 3 ou 4, valorizaria o imóvel entre 33% e 66%;\n",
        "\n",
        "Um outro ponto importante, deve-se ao fato de que ao aumentar a área utilizada de um imóvel, irá ter uma forte influência no valor do imóvel. "
      ],
      "metadata": {
        "id": "qdZn0RsNXQjy"
      }
    }
  ]
}